{
 "cells": [
  {
   "cell_type": "code",
   "execution_count": 3,
   "metadata": {},
   "outputs": [],
   "source": [
    "\n",
    "class coding_ninja:\n",
    "    def factorial(number,power):\n",
    "        if power == 0:\n",
    "            return 1\n",
    "        return number**power\n",
    "    \n",
    "        "
   ]
  },
  {
   "cell_type": "code",
   "execution_count": 7,
   "metadata": {},
   "outputs": [
    {
     "name": "stdout",
     "output_type": "stream",
     "text": [
      "sucess\n",
      "sucess\n",
      "True\n"
     ]
    }
   ],
   "source": [
    "class testcases:\n",
    "    assert(coding_ninja.factorial(2,3)==8)\n",
    "    print(\"sucess\")\n",
    "    assert(coding_ninja.factorial(9,3)==729)\n",
    "    print(\"sucess\")\n",
    "    assert(coding_ninja.factorial(2,2)==4)\n",
    "    print(\"True\")"
   ]
  },
  {
   "cell_type": "code",
   "execution_count": 10,
   "metadata": {},
   "outputs": [
    {
     "name": "stdin",
     "output_type": "stream",
     "text": [
      " 10 10\n"
     ]
    },
    {
     "name": "stdout",
     "output_type": "stream",
     "text": [
      "10000000000\n"
     ]
    }
   ],
   "source": [
    "class power_of_num:\n",
    "    def __init__(self,number,power):\n",
    "        self.number = number\n",
    "        self.power = power\n",
    "    def factorial(self):\n",
    "        if self.power ==0:\n",
    "            return 1\n",
    "        return self.number**self.power\n",
    "    \n",
    "    \n",
    "if __name__ == \"__main__\":\n",
    "    num,power = input().split()\n",
    "    num = int(num)\n",
    "    power = int(power)\n",
    "    power_deter = power_of_num(num,power)\n",
    "    print(power_deter.factorial())"
   ]
  },
  {
   "cell_type": "code",
   "execution_count": 1,
   "metadata": {},
   "outputs": [
    {
     "name": "stdout",
     "output_type": "stream",
     "text": [
      "16\n"
     ]
    }
   ],
   "source": [
    "def fun(n):\n",
    "    if(n == 4):\n",
    "        return n\n",
    "    else:\n",
    "        return 2*fun(n+1)\n",
    "\n",
    "\n",
    "print(fun(2))"
   ]
  },
  {
   "cell_type": "code",
   "execution_count": 1,
   "metadata": {},
   "outputs": [
    {
     "name": "stdin",
     "output_type": "stream",
     "text": [
      " 100\n",
      " 1 2 3 4 5\n"
     ]
    },
    {
     "name": "stdout",
     "output_type": "stream",
     "text": [
      "15\n"
     ]
    }
   ],
   "source": [
    "def sumArray(arr):\n",
    "    # Please add your code here\n",
    "    \n",
    "    if len(arr) == 0:\n",
    "        return  0\n",
    "    elif len(arr)==1:\n",
    "        return arr[0]\n",
    "    else:\n",
    "        add = arr[0]+sumArray(arr[1:])\n",
    "        return add\n",
    "        \n",
    "    \n",
    "\n",
    "# Main\n",
    "from sys import setrecursionlimit\n",
    "setrecursionlimit(11000)\n",
    "n=int(input())\n",
    "arr=list(int(i) for i in input().strip().split(' '))\n",
    "print(sumArray(arr))\n"
   ]
  },
  {
   "cell_type": "code",
   "execution_count": 22,
   "metadata": {},
   "outputs": [
    {
     "name": "stdin",
     "output_type": "stream",
     "text": [
      " 5\n",
      " 1 2 3 4 5\n",
      " 7\n"
     ]
    },
    {
     "name": "stdout",
     "output_type": "stream",
     "text": [
      "true\n"
     ]
    }
   ],
   "source": [
    "def checkNumber(arr, x):\n",
    "    # Please add your code here\n",
    "    if len(arr) ==0:\n",
    "        return 'false'\n",
    "    elif len(arr)==1:\n",
    "        if arr[0] == x:\n",
    "            return 'true'\n",
    "        else:\n",
    "            return 'false'\n",
    "    else:\n",
    "        m = arr[0]\n",
    "        if m == x:\n",
    "            return \"true\"\n",
    "        else:\n",
    "            checkNumber(arr[1:],x)\n",
    "            return 'false'\n",
    "    \n",
    "# Main\n",
    "n=int(input())\n",
    "arr=list(int(i) for i in input().strip().split(' '))\n",
    "x=int(input())\n",
    "if checkNumber(arr, x):\n",
    "    print('true')\n",
    "else:\n",
    "    print('false')\n"
   ]
  },
  {
   "cell_type": "code",
   "execution_count": 19,
   "metadata": {},
   "outputs": [
    {
     "name": "stdin",
     "output_type": "stream",
     "text": [
      " 4\n",
      " 1 2 4 5\n",
      " 0\n"
     ]
    },
    {
     "name": "stdout",
     "output_type": "stream",
     "text": [
      "None\n"
     ]
    }
   ],
   "source": [
    "def checkNumber(arr, x):\n",
    "    # Please add your code here\n",
    "    if len(arr) ==0:\n",
    "        return None\n",
    "    firstnum = arr[0]\n",
    "    if firstnum ==x:\n",
    "        return 'true'\n",
    "    smallarray = checkNumber(arr[1:],x)\n",
    "    if smallarray:\n",
    "        return 'true'\n",
    "    else:\n",
    "        return None\n",
    "            \n",
    "        \n",
    "# Main\n",
    "n=int(input())\n",
    "arr=list(int(i) for i in input().strip().split(' '))\n",
    "x=int(input())\n",
    "print(checkNumber(arr,x))"
   ]
  },
  {
   "cell_type": "code",
   "execution_count": 28,
   "metadata": {},
   "outputs": [],
   "source": [
    "def firstIndex(arr,x,si):\n",
    "    if len(arr) == 0:\n",
    "        return -1\n",
    "    firstnum = arr[si]\n",
    "    if firstnum == x:\n",
    "        return si\n",
    "    smallerarray = firstIndex(arr,x,si+1)\n",
    "    return smallerarray\n",
    "    "
   ]
  },
  {
   "cell_type": "code",
   "execution_count": 29,
   "metadata": {},
   "outputs": [
    {
     "name": "stdin",
     "output_type": "stream",
     "text": [
      " 7\n",
      " 1 2 3 5 7 5 7\n",
      " 7\n"
     ]
    },
    {
     "name": "stdout",
     "output_type": "stream",
     "text": [
      "4\n"
     ]
    }
   ],
   "source": [
    "n=int(input())\n",
    "arr=list(int(i) for i in input().strip().split(' '))\n",
    "x=int(input())\n",
    "si = 0\n",
    "print(firstIndex(arr,x,si))"
   ]
  },
  {
   "cell_type": "code",
   "execution_count": 30,
   "metadata": {},
   "outputs": [],
   "source": [
    "# def firstIndex(arr,x,si):\n",
    "#     if len(arr) == 0 or si == len(arr)-1:\n",
    "#         return -1\n",
    "#     firstnum = arr[si]\n",
    "#     if firstnum == x:\n",
    "#         return si\n",
    "    \n",
    "#     smallerarray = firstIndex(arr,x,si+1)\n",
    "#     return smallerarray    \n",
    "# # Main\n",
    "# from sys import setrecursionlimit\n",
    "# setrecursionlimit(11000)\n",
    "# n=int(input())\n",
    "# arr=list(int(i) for i in input().strip().split(' '))\n",
    "# x=int(input())\n",
    "# si = 0\n",
    "# print(firstIndex(arr, x,si))\n"
   ]
  },
  {
   "cell_type": "code",
   "execution_count": 31,
   "metadata": {},
   "outputs": [],
   "source": [
    "def lastIndex(arr,x,si):\n",
    "    if si == len(arr):\n",
    "        return -1\n",
    "    smallarray = lastIndex(arr,x,si+1)\n",
    "    if smallarray == -1:\n",
    "        if arr[0] == x:\n",
    "            return 0\n",
    "        else:\n",
    "            return -1\n",
    "        \n",
    "    else:\n",
    "        return si+1\n"
   ]
  },
  {
   "cell_type": "code",
   "execution_count": 32,
   "metadata": {},
   "outputs": [
    {
     "name": "stdin",
     "output_type": "stream",
     "text": [
      " 7\n",
      " 1 2 3 4 3 3 4\n",
      " 3\n"
     ]
    },
    {
     "name": "stdout",
     "output_type": "stream",
     "text": [
      "-1\n"
     ]
    }
   ],
   "source": [
    "n=int(input())\n",
    "arr=list(int(i) for i in input().strip().split(' '))\n",
    "x=int(input())\n",
    "si = 0\n",
    "print(lastIndex(arr,x,si))"
   ]
  },
  {
   "cell_type": "code",
   "execution_count": 1,
   "metadata": {},
   "outputs": [],
   "source": [
    "\n",
    "def lastindex(arr,x,si):\n",
    "    \n",
    "    if si==0:\n",
    "        if arr[si]==x:\n",
    "            return 0\n",
    "        else:\n",
    "            return -1\n",
    "    num = arr[si]\n",
    "    if num==x:\n",
    "        return si\n",
    "    \n",
    "        \n",
    "    Num_idx_finder = lastindex(arr,x,si-1)\n",
    "    return Num_idx_finder\n",
    "\n",
    "    \n",
    "    "
   ]
  },
  {
   "cell_type": "code",
   "execution_count": 2,
   "metadata": {},
   "outputs": [
    {
     "name": "stdin",
     "output_type": "stream",
     "text": [
      " 4\n",
      " 0 3 1 3\n",
      " 3\n"
     ]
    },
    {
     "name": "stdout",
     "output_type": "stream",
     "text": [
      "3\n"
     ]
    }
   ],
   "source": [
    "n=int(input())\n",
    "arr=list(int(i) for i in input().strip().split(' '))\n",
    "x=int(input())\n",
    "si = len(arr)-1\n",
    "print(lastindex(arr,x,si))"
   ]
  },
  {
   "cell_type": "code",
   "execution_count": 3,
   "metadata": {},
   "outputs": [],
   "source": [
    "def removeX(string,letter,replace_by_letter):\n",
    "    if len(string)==0:\n",
    "        return string\n",
    "    smallerstring = removeX(string[1:],letter,replace_by_letter)\n",
    "    if string[0]==letter:\n",
    "        return replace_by_letter + smallerstring\n",
    "    else:\n",
    "        return string[0]+smallerstring\n",
    "    "
   ]
  },
  {
   "cell_type": "code",
   "execution_count": 4,
   "metadata": {},
   "outputs": [
    {
     "name": "stdin",
     "output_type": "stream",
     "text": [
      " axzxc\n",
      " x\n",
      " \n"
     ]
    },
    {
     "name": "stdout",
     "output_type": "stream",
     "text": [
      "azc\n"
     ]
    }
   ],
   "source": [
    "n = input()\n",
    "letter = input()\n",
    "replace_by_letter = input()\n",
    "print(removeX(n,letter,replace_by_letter))"
   ]
  },
  {
   "cell_type": "code",
   "execution_count": null,
   "metadata": {},
   "outputs": [],
   "source": [
    "# Problem: Remove x from string\n",
    "def removeX(string):\n",
    "    if len(string)==0:\n",
    "        return string\n",
    "    smallerstring = removeX(string[1:])\n",
    "    if string[0]=='x':\n",
    "        return '' + smallerstring\n",
    "    else:\n",
    "        return string[0]+smallerstring\n",
    "    \n",
    "\n",
    "# Main\n",
    "string = input()\n",
    "print(removeX(string))\n",
    "     "
   ]
  },
  {
   "cell_type": "code",
   "execution_count": 21,
   "metadata": {},
   "outputs": [
    {
     "name": "stdin",
     "output_type": "stream",
     "text": [
      " xxyxxzdzz\n"
     ]
    },
    {
     "name": "stdout",
     "output_type": "stream",
     "text": [
      "xyxzdz\n"
     ]
    }
   ],
   "source": [
    "#RemoveConsecutive Duplicates \n",
    "\n",
    "def removeConsecutiveDuplicates(string):\n",
    "    # Please add your code here\n",
    "    if len(string)==0 or len(string)==1:\n",
    "        return string\n",
    "    first_char = string[0]\n",
    "    smaller_string = string[1:]\n",
    "    smallerstring  = removeConsecutiveDuplicates(smaller_string)\n",
    "    if first_char != string[1]:\n",
    "        return first_char + smallerstring\n",
    "    else:\n",
    "        return smallerstring\n",
    "string = input().strip()\n",
    "print(removeConsecutiveDuplicates(string))"
   ]
  },
  {
   "cell_type": "code",
   "execution_count": 9,
   "metadata": {},
   "outputs": [],
   "source": [
    "def merge(a1,a2,a):\n",
    "    i=j=k=0\n",
    "    while i<len(a1) and j<len(a2):\n",
    "        if a1[i]<a2[j]:\n",
    "            a[k] = a1[i]\n",
    "            k=k+1\n",
    "            i+=1\n",
    "        else:\n",
    "            a[k]=a2[j]\n",
    "            k+=1\n",
    "            j+=1\n",
    "    while i<len(a1):\n",
    "        a[k] = a1[i]\n",
    "        k+=1\n",
    "        i+=1\n",
    "    while j<len(a2):\n",
    "        a[k] = a2[j]\n",
    "        k+=1\n",
    "        j+=1"
   ]
  },
  {
   "cell_type": "code",
   "execution_count": 14,
   "metadata": {},
   "outputs": [],
   "source": [
    "def mergesort(arr):\n",
    "    \n",
    "    if len(arr) ==0 or len(arr)==1:\n",
    "        return \n",
    "    mid = len(arr)//2\n",
    "    smallarray1 = arr[0:mid]\n",
    "    smallarray2 = arr[mid:]\n",
    "    \n",
    "    mergesort(smallarray1)\n",
    "    mergesort(smallarray2)\n",
    "    \n",
    "    merge(smallarray1,smallarray2,arr)\n",
    "    \n",
    "    \n",
    "        \n",
    "    \n",
    "    \n",
    "                                      "
   ]
  },
  {
   "cell_type": "code",
   "execution_count": null,
   "metadata": {},
   "outputs": [],
   "source": []
  },
  {
   "cell_type": "code",
   "execution_count": 15,
   "metadata": {},
   "outputs": [
    {
     "data": {
      "text/plain": [
       "[1, 3, 7, 8, 9]"
      ]
     },
     "execution_count": 15,
     "metadata": {},
     "output_type": "execute_result"
    }
   ],
   "source": [
    "a = [1,7,3,9,8]\n",
    "mergesort(a)\n",
    "a"
   ]
  },
  {
   "cell_type": "code",
   "execution_count": 31,
   "metadata": {},
   "outputs": [
    {
     "data": {
      "text/plain": [
       "2"
      ]
     },
     "execution_count": 31,
     "metadata": {},
     "output_type": "execute_result"
    }
   ],
   "source": [
    "5//2"
   ]
  },
  {
   "cell_type": "code",
   "execution_count": 34,
   "metadata": {},
   "outputs": [
    {
     "data": {
      "text/plain": [
       "2"
      ]
     },
     "execution_count": 34,
     "metadata": {},
     "output_type": "execute_result"
    }
   ],
   "source": [
    "4//2"
   ]
  },
  {
   "cell_type": "code",
   "execution_count": 35,
   "metadata": {},
   "outputs": [
    {
     "data": {
      "text/plain": [
       "0"
      ]
     },
     "execution_count": 35,
     "metadata": {},
     "output_type": "execute_result"
    }
   ],
   "source": [
    "1//2"
   ]
  },
  {
   "cell_type": "code",
   "execution_count": 23,
   "metadata": {},
   "outputs": [],
   "source": [
    "def merge(a1,a2,a):\n",
    "    i=j=k=0\n",
    "    while i<len(a1) and j<len(a2):\n",
    "        if a1[i]<a2[j]:\n",
    "            a[k] = a1[i]\n",
    "            k=k+1\n",
    "            i+=1\n",
    "        else:\n",
    "            a[k]=a2[j]\n",
    "            k+=1\n",
    "            j+=1\n",
    "    while i<len(a1):\n",
    "        a[k] = a1[i]\n",
    "        k+=1\n",
    "        i+=1\n",
    "    while j<len(a2):\n",
    "        a[k] = a2[j]\n",
    "        k+=1\n",
    "        j+=1"
   ]
  },
  {
   "cell_type": "code",
   "execution_count": 24,
   "metadata": {},
   "outputs": [],
   "source": [
    "def mergesort(arr,si,ei):\n",
    "    \n",
    "    if len(arr) ==0 or len(arr)==1:\n",
    "        return \n",
    "    mid = (si+ei)//2\n",
    "    smallarray1 = arr[0:mid]\n",
    "    smallarray2 = arr[mid:]\n",
    "    \n",
    "    mergesort(smallarray1,0,mid)\n",
    "    mergesort(smallarray2,mid+1,ei)\n",
    "    \n",
    "    merge(smallarray1,smallarray2,arr)\n",
    "    "
   ]
  },
  {
   "cell_type": "code",
   "execution_count": 25,
   "metadata": {},
   "outputs": [
    {
     "data": {
      "text/plain": [
       "[1, 3, 7, 8, 9]"
      ]
     },
     "execution_count": 25,
     "metadata": {},
     "output_type": "execute_result"
    }
   ],
   "source": [
    "a = [1,7,3,9,8]\n",
    "mergesort(a,0,len(a))\n",
    "a"
   ]
  },
  {
   "cell_type": "code",
   "execution_count": 22,
   "metadata": {},
   "outputs": [
    {
     "name": "stdin",
     "output_type": "stream",
     "text": [
      " 4\n",
      " 1 3 5 6\n"
     ]
    },
    {
     "name": "stdout",
     "output_type": "stream",
     "text": [
      "1 3 5 6\n"
     ]
    }
   ],
   "source": [
    "def merge(a1,a2,a):\n",
    "    i=j=k=0\n",
    "    while i<len(a1) and j<len(a2):\n",
    "        if a1[i]<a2[j]:\n",
    "            a[k] = a1[i]\n",
    "            k=k+1\n",
    "            i+=1\n",
    "        else:\n",
    "            a[k]=a2[j]\n",
    "            k+=1\n",
    "            j+=1\n",
    "    while i<len(a1):\n",
    "        a[k] = a1[i]\n",
    "        k+=1\n",
    "        i+=1\n",
    "    while j<len(a2):\n",
    "        a[k] = a2[j]\n",
    "        k+=1\n",
    "        j+=1\n",
    "\n",
    "\n",
    "\n",
    "\n",
    "\n",
    "\n",
    "\n",
    "def mergeSort(arr):\n",
    "    # Please add your code here\n",
    "    if len(arr)==0 or len(arr)==1:\n",
    "        return \n",
    "    mid = (len(arr))//2\n",
    "    smallarray1 = arr[0:mid]\n",
    "    smallarray2 = arr[mid:]\n",
    "    mergeSort(smallarray1)\n",
    "    mergeSort(smallarray2)\n",
    "    merge(smallarray1,smallarray2,arr)\n",
    "\n",
    "# Main\n",
    "n=int(input())\n",
    "arr=list(int(i) for i in input().strip().split(' '))\n",
    "mergeSort(arr)\n",
    "print(*arr)\n"
   ]
  },
  {
   "cell_type": "markdown",
   "metadata": {},
   "source": [
    "---"
   ]
  },
  {
   "cell_type": "code",
   "execution_count": 167,
   "metadata": {},
   "outputs": [],
   "source": [
    "def partition(arr,si,ei):\n",
    "    pivot_index = si\n",
    "    pivot_point = arr[si]\n",
    "    number_of_points = si\n",
    "    \n",
    "    while si<len(arr):\n",
    "        if arr[si]< pivot_point:\n",
    "            number_of_points+=1\n",
    "        else:\n",
    "            number_of_points+=0\n",
    "        si+=1\n",
    "   \n",
    "    arr[number_of_points],arr[pivot_index] = arr[pivot_index],arr[number_of_points]\n",
    "    for first_half in range(0,number_of_points,1):\n",
    "        for second_half in range(len(arr)-1,number_of_points,-1):\n",
    "            if arr[first_half]>arr[second_half]:\n",
    "                arr[first_half],arr[second_half] = arr[second_half],arr[first_half]\n",
    "            \n",
    "            \n",
    "    return number_of_points\n"
   ]
  },
  {
   "cell_type": "code",
   "execution_count": null,
   "metadata": {},
   "outputs": [],
   "source": [
    "def partition(arr,si,ei):\n",
    "    pivot_point = arr[si]\n",
    "    number_of_points = 0\n",
    "    \n",
    "    for i in range(si,ei+1):\n",
    "        if arr[i]<pivot_point:\n",
    "            number_of_points+=1\n",
    "    arr[si],arr[si+number_of_points] = arr[si+number_of_points],arr[si]\n",
    "    pivot_index = si+number_of_points\n",
    "    pivot_point = arr[pivot_index]\n",
    "    \n",
    "    while si<ei:\n",
    "        if arr[si]< pivot_point:\n",
    "            si+=1\n",
    "        elif arr[ei]>=pivot_point:\n",
    "            ei-=1\n",
    "        else:\n",
    "            arr[si],arr[ei] = arr[ei],arr[si]\n",
    "            si+=1\n",
    "            ei-=1\n",
    "            \n",
    "            \n",
    "    return pivot_index\n"
   ]
  },
  {
   "cell_type": "code",
   "execution_count": 168,
   "metadata": {},
   "outputs": [
    {
     "data": {
      "text/plain": [
       "5"
      ]
     },
     "execution_count": 168,
     "metadata": {},
     "output_type": "execute_result"
    }
   ],
   "source": [
    "partition([ 10, 7, 8, 9, 1, 5 ],0,5)"
   ]
  },
  {
   "cell_type": "code",
   "execution_count": 169,
   "metadata": {},
   "outputs": [
    {
     "data": {
      "text/plain": [
       "1"
      ]
     },
     "execution_count": 169,
     "metadata": {},
     "output_type": "execute_result"
    }
   ],
   "source": [
    "partition([5, 7, 8, 9, 1, 10],0,5)"
   ]
  },
  {
   "cell_type": "code",
   "execution_count": 170,
   "metadata": {},
   "outputs": [
    {
     "data": {
      "text/plain": [
       "3"
      ]
     },
     "execution_count": 170,
     "metadata": {},
     "output_type": "execute_result"
    }
   ],
   "source": [
    "partition([1, 5, 8, 9, 7, 10],2,5)"
   ]
  },
  {
   "cell_type": "code",
   "execution_count": 179,
   "metadata": {},
   "outputs": [],
   "source": [
    "def partition(array,start,end):\n",
    "      \n",
    "    pivot_index = start \n",
    "    pivot = array[pivot_index]\n",
    "      \n",
    "    \n",
    "    while start < end:\n",
    "          \n",
    "        \n",
    "        while start < len(array) and array[start] <= pivot:\n",
    "            start += 1\n",
    "              \n",
    "        while array[end] > pivot:\n",
    "            end -= 1\n",
    "          \n",
    "        if(start < end):\n",
    "            array[start], array[end] = array[end], array[start]\n",
    "      \n",
    "    \n",
    "    array[end], array[pivot_index] = array[pivot_index], array[end]\n",
    "     \n",
    "    \n",
    "    return end"
   ]
  },
  {
   "cell_type": "code",
   "execution_count": 181,
   "metadata": {},
   "outputs": [
    {
     "name": "stdout",
     "output_type": "stream",
     "text": [
      "Sorted array: [5, 6, 19, 44, 55, 66]\n"
     ]
    }
   ],
   "source": [
    "def quickSort(array,start, end):\n",
    "    if len(array) ==0 or len(arr)==1:\n",
    "        return \n",
    "    if (start <= end):\n",
    "          \n",
    "        p = partition(array,start, end)\n",
    "        \n",
    "        quickSort(array,start, p - 1)\n",
    "        quickSort(array,p + 1, end)\n",
    "          \n",
    "\n",
    "array = [44,55,66,5,6,19]\n",
    "quickSort(array,0, len(array) - 1)\n",
    "print(f'Sorted array: {array}')"
   ]
  },
  {
   "cell_type": "code",
   "execution_count": 178,
   "metadata": {},
   "outputs": [
    {
     "name": "stdin",
     "output_type": "stream",
     "text": [
      " 5\n",
      " 44 55 66 5 6 19\n"
     ]
    },
    {
     "name": "stdout",
     "output_type": "stream",
     "text": [
      "5 6 19 44 55 66\n"
     ]
    }
   ],
   "source": [
    "n=int(input())\n",
    "arr=list(int(i) for i in input().strip().split(' '))\n",
    "quickSort(arr, 0, n)\n",
    "print(*arr)\n"
   ]
  },
  {
   "cell_type": "markdown",
   "metadata": {},
   "source": [
    "----------"
   ]
  },
  {
   "cell_type": "code",
   "execution_count": 1,
   "metadata": {},
   "outputs": [
    {
     "name": "stdin",
     "output_type": "stream",
     "text": [
      " 4\n"
     ]
    },
    {
     "name": "stdout",
     "output_type": "stream",
     "text": [
      "a b\n",
      "a c\n",
      "b c\n",
      "a b\n",
      "c a\n",
      "c b\n",
      "a b\n",
      "a c\n",
      "b c\n",
      "b a\n",
      "c a\n",
      "b c\n",
      "a b\n",
      "a c\n",
      "b c\n"
     ]
    }
   ],
   "source": [
    "def towerofhanoi(n, source, aux, dest):\n",
    "    # Please add your code here\n",
    "    if n==0:\n",
    "        return -1\n",
    "    if n == 1:\n",
    "        print(source,dest)\n",
    "        return\n",
    "    towerofhanoi(n-1,source,dest,aux)\n",
    "    print(source,dest)\n",
    "    towerofhanoi(n-1,aux,source,dest)\n",
    "    \n",
    "    \n",
    "\n",
    "    \n",
    "n=int(input())\n",
    "towerofhanoi(n, 'a', 'b', 'c')\n"
   ]
  },
  {
   "cell_type": "markdown",
   "metadata": {},
   "source": [
    "------------------"
   ]
  },
  {
   "cell_type": "code",
   "execution_count": 36,
   "metadata": {},
   "outputs": [
    {
     "name": "stdout",
     "output_type": "stream",
     "text": [
      "2.000000\n"
     ]
    }
   ],
   "source": [
    "print(f\"{2.0:.6f}\")"
   ]
  },
  {
   "cell_type": "code",
   "execution_count": 43,
   "metadata": {},
   "outputs": [],
   "source": [
    "## Read input as specified in the question.\n",
    "## Print output as specified in the question.\n",
    "\n",
    "def gp_sum(k):\n",
    "    if k ==0:\n",
    "        return 1\n",
    "    \n",
    "    return 1/2**k+gp_sum(k-1)\n",
    " \n",
    "    \n",
    "def gp(k):\n",
    "    val = gp_sum(k)\n",
    "    return format(val,'.5f')\n",
    "\n",
    "\n",
    "\n",
    "if __name__ == \"__main__\":\n",
    "    n = int(input())\n",
    "    print(gp(n))"
   ]
  },
  {
   "cell_type": "markdown",
   "metadata": {},
   "source": [
    "--------"
   ]
  },
  {
   "cell_type": "code",
   "execution_count": 84,
   "metadata": {},
   "outputs": [],
   "source": [
    "def palindrome(string):\n",
    "    if len(string)==0:\n",
    "        return string\n",
    "    return string[-1]+palindrome(string[:-1])\n",
    "\n",
    "def palidrome_checker(string):\n",
    "    if len(string)==0:\n",
    "        return 'true'\n",
    "    if len(string)==1:\n",
    "        return 'true'\n",
    "    palidrome_string = palindrome(string)\n",
    "    if string == palidrome_string:\n",
    "        return 'true'\n",
    "    else:\n",
    "        return 'false'\n",
    "    \n"
   ]
  },
  {
   "cell_type": "code",
   "execution_count": 85,
   "metadata": {},
   "outputs": [
    {
     "name": "stdin",
     "output_type": "stream",
     "text": [
      " r\n"
     ]
    },
    {
     "name": "stdout",
     "output_type": "stream",
     "text": [
      "true\n"
     ]
    }
   ],
   "source": [
    "print(palidrome_checker(input()))"
   ]
  },
  {
   "cell_type": "code",
   "execution_count": 79,
   "metadata": {},
   "outputs": [
    {
     "data": {
      "text/plain": [
       "'d'"
      ]
     },
     "execution_count": 79,
     "metadata": {},
     "output_type": "execute_result"
    }
   ],
   "source": [
    "\"abcd\"[-1]"
   ]
  },
  {
   "cell_type": "code",
   "execution_count": 81,
   "metadata": {},
   "outputs": [],
   "source": [
    "a =1234\n"
   ]
  },
  {
   "cell_type": "code",
   "execution_count": 82,
   "metadata": {},
   "outputs": [
    {
     "data": {
      "text/plain": [
       "5"
      ]
     },
     "execution_count": 82,
     "metadata": {},
     "output_type": "execute_result"
    }
   ],
   "source": [
    "12345%10"
   ]
  },
  {
   "cell_type": "markdown",
   "metadata": {},
   "source": [
    "--------"
   ]
  },
  {
   "cell_type": "code",
   "execution_count": 99,
   "metadata": {},
   "outputs": [],
   "source": [
    "\n",
    "def sum_of_num(number):\n",
    "    if number==0:\n",
    "        return  0\n",
    "    factor = number%10\n",
    "    new_num = number//10\n",
    "    return factor+sum_of_num(new_num)"
   ]
  },
  {
   "cell_type": "code",
   "execution_count": 100,
   "metadata": {},
   "outputs": [
    {
     "name": "stdin",
     "output_type": "stream",
     "text": [
      " 100\n"
     ]
    },
    {
     "data": {
      "text/plain": [
       "1"
      ]
     },
     "execution_count": 100,
     "metadata": {},
     "output_type": "execute_result"
    }
   ],
   "source": [
    "sum_of_num(int(input()))"
   ]
  },
  {
   "cell_type": "code",
   "execution_count": 89,
   "metadata": {},
   "outputs": [
    {
     "data": {
      "text/plain": [
       "1234"
      ]
     },
     "execution_count": 89,
     "metadata": {},
     "output_type": "execute_result"
    }
   ],
   "source": [
    "\n",
    "12345//10"
   ]
  },
  {
   "cell_type": "markdown",
   "metadata": {},
   "source": [
    "--------"
   ]
  },
  {
   "cell_type": "code",
   "execution_count": 152,
   "metadata": {},
   "outputs": [],
   "source": [
    "def mul_of_num(number):\n",
    "    if number==0:\n",
    "        return 0\n",
    "    if number<10:\n",
    "        return number\n",
    "    \n",
    "    factor = number%10\n",
    "    new_num = number//10\n",
    "    \n",
    "    return factor*mul_of_num(new_num)"
   ]
  },
  {
   "cell_type": "code",
   "execution_count": 156,
   "metadata": {},
   "outputs": [
    {
     "name": "stdin",
     "output_type": "stream",
     "text": [
      " 181889\n"
     ]
    },
    {
     "data": {
      "text/plain": [
       "4608"
      ]
     },
     "execution_count": 156,
     "metadata": {},
     "output_type": "execute_result"
    }
   ],
   "source": [
    "mul_of_num(int(input()))"
   ]
  },
  {
   "cell_type": "code",
   "execution_count": 151,
   "metadata": {},
   "outputs": [
    {
     "data": {
      "text/plain": [
       "10"
      ]
     },
     "execution_count": 151,
     "metadata": {},
     "output_type": "execute_result"
    }
   ],
   "source": [
    "101%10\n",
    "101//10"
   ]
  },
  {
   "cell_type": "code",
   "execution_count": 157,
   "metadata": {},
   "outputs": [
    {
     "data": {
      "text/plain": [
       "4608"
      ]
     },
     "execution_count": 157,
     "metadata": {},
     "output_type": "execute_result"
    }
   ],
   "source": [
    "64*72\n"
   ]
  },
  {
   "cell_type": "markdown",
   "metadata": {},
   "source": [
    "---------------------"
   ]
  },
  {
   "cell_type": "code",
   "execution_count": 20,
   "metadata": {},
   "outputs": [],
   "source": [
    "def multipication(M,N):\n",
    "    if M<N:\n",
    "        return multipication(N,M)\n",
    "    if M ==0:\n",
    "        return 0\n",
    "    \n",
    "    M-=1\n",
    "    val = N+multipication(M,N)\n",
    "    \n",
    "    return val"
   ]
  },
  {
   "cell_type": "code",
   "execution_count": 21,
   "metadata": {},
   "outputs": [
    {
     "name": "stdin",
     "output_type": "stream",
     "text": [
      " 2\n",
      " 3\n"
     ]
    },
    {
     "data": {
      "text/plain": [
       "6"
      ]
     },
     "execution_count": 21,
     "metadata": {},
     "output_type": "execute_result"
    }
   ],
   "source": [
    "M = int(input())\n",
    "N= int(input())\n",
    "multipication(M,N)"
   ]
  },
  {
   "cell_type": "code",
   "execution_count": null,
   "metadata": {},
   "outputs": [],
   "source": [
    "def multipication(M,N):\n",
    "    if M<N:\n",
    "        return multipication(N,M)\n",
    "    elif N!=0:\n",
    "        return M+multipication(M,N-1)\n",
    "    \n",
    "    else:\n",
    "        return 0\n",
    "    \n",
    "\n",
    "if __name__ == \"__main__\":\n",
    "    M = int(input())\n",
    "    N = int(input())\n",
    "    print(multipication(M,N))"
   ]
  },
  {
   "cell_type": "markdown",
   "metadata": {},
   "source": [
    "------------------"
   ]
  },
  {
   "cell_type": "code",
   "execution_count": 86,
   "metadata": {},
   "outputs": [
    {
     "name": "stdin",
     "output_type": "stream",
     "text": [
      " 000012301\n"
     ]
    }
   ],
   "source": [
    "n = input()"
   ]
  },
  {
   "cell_type": "code",
   "execution_count": 87,
   "metadata": {},
   "outputs": [
    {
     "name": "stdout",
     "output_type": "stream",
     "text": [
      "12301\n"
     ]
    }
   ],
   "source": [
    "print(int(n))"
   ]
  },
  {
   "cell_type": "code",
   "execution_count": 90,
   "metadata": {},
   "outputs": [
    {
     "data": {
      "text/plain": [
       "1"
      ]
     },
     "execution_count": 90,
     "metadata": {},
     "output_type": "execute_result"
    }
   ],
   "source": [
    "12301%10"
   ]
  },
  {
   "cell_type": "code",
   "execution_count": 91,
   "metadata": {},
   "outputs": [
    {
     "data": {
      "text/plain": [
       "0"
      ]
     },
     "execution_count": 91,
     "metadata": {},
     "output_type": "execute_result"
    }
   ],
   "source": [
    "1230%10\n"
   ]
  },
  {
   "cell_type": "code",
   "execution_count": 137,
   "metadata": {},
   "outputs": [],
   "source": [
    "\n",
    "def Zero_counter(n):\n",
    "    if n == 0:\n",
    "        return 1\n",
    "    if n==1:\n",
    "        return 1\n",
    "        \n",
    "    number = n\n",
    "    remainder = number%10\n",
    "    new_number = number//10\n",
    "    if new_number == 0:\n",
    "        return 1\n",
    "    return str(remainder)+str(Zero_counter(new_number))\n",
    "     \n",
    "def IsZerofinder(n):\n",
    "    if n==0:\n",
    "        return 1\n",
    "    if n==1:\n",
    "        return 0\n",
    "    number = Zero_counter(n)\n",
    "    \n",
    "    cnt = 0\n",
    "    for num in number:\n",
    "        if num == '0':\n",
    "            cnt+=1\n",
    "    return cnt \n",
    "\n",
    "\n",
    "if __name__ == '__main__':\n",
    "    n = input()\n",
    "    number = int(n)\n",
    "    print(IsZerofinder(number))"
   ]
  },
  {
   "cell_type": "code",
   "execution_count": 138,
   "metadata": {},
   "outputs": [
    {
     "name": "stdin",
     "output_type": "stream",
     "text": [
      " 00010204\n"
     ]
    },
    {
     "name": "stdout",
     "output_type": "stream",
     "text": [
      "40201\n",
      "2\n"
     ]
    }
   ],
   "source": [
    "if __name__ == '__main__':\n",
    "    n = input()\n",
    "    number = int(n)\n",
    "    print(IsZerofinder(number))"
   ]
  },
  {
   "cell_type": "markdown",
   "metadata": {},
   "source": [
    "-----------"
   ]
  },
  {
   "cell_type": "code",
   "execution_count": 2,
   "metadata": {},
   "outputs": [],
   "source": [
    "def string_int(string):\n",
    "    if len(string)==1:\n",
    "        return string\n",
    "    if len(string)==0:\n",
    "        return string\n",
    "    if string[0]=='0':\n",
    "        return string_int(string[1:])\n",
    "    else:\n",
    "        return string_int_convertor(string)\n",
    "        \n",
    "def string_int_convertor(string):\n",
    "    if len(string)==1:\n",
    "        return string\n",
    "    else:\n",
    "        val = string[0]+string_int_convertor(string[1:])\n",
    "        return val\n",
    "\n",
    "        "
   ]
  },
  {
   "cell_type": "code",
   "execution_count": 4,
   "metadata": {},
   "outputs": [
    {
     "name": "stdin",
     "output_type": "stream",
     "text": [
      " 0019909\n"
     ]
    },
    {
     "name": "stdout",
     "output_type": "stream",
     "text": [
      "19909\n"
     ]
    }
   ],
   "source": [
    "if __name__ == '__main__':\n",
    "    n = input()\n",
    "    print(string_int(n))"
   ]
  },
  {
   "cell_type": "code",
   "execution_count": 23,
   "metadata": {},
   "outputs": [
    {
     "data": {
      "text/plain": [
       "'2'"
      ]
     },
     "execution_count": 23,
     "metadata": {},
     "output_type": "execute_result"
    }
   ],
   "source": [
    "a ='128'\n",
    "a[1]"
   ]
  },
  {
   "cell_type": "code",
   "execution_count": 35,
   "metadata": {},
   "outputs": [
    {
     "name": "stdout",
     "output_type": "stream",
     "text": [
      "0\n"
     ]
    }
   ],
   "source": [
    "x = ord('0') - ord('0')\n",
    "print(x)"
   ]
  },
  {
   "cell_type": "markdown",
   "metadata": {},
   "source": [
    "------"
   ]
  },
  {
   "cell_type": "code",
   "execution_count": 12,
   "metadata": {},
   "outputs": [],
   "source": [
    "def string_to_star(string):\n",
    "    if len(string)==0:\n",
    "        return string\n",
    "    if len(string)==1:\n",
    "        return string\n",
    "    first_substring = string[0]\n",
    "    if first_substring == string[1]:\n",
    "        return first_substring +'*'+string_to_star(string[1:])\n",
    "    else:\n",
    "        return first_substring + string_to_star(string[1:])"
   ]
  },
  {
   "cell_type": "code",
   "execution_count": 16,
   "metadata": {},
   "outputs": [
    {
     "name": "stdin",
     "output_type": "stream",
     "text": [
      " aaaa\n"
     ]
    },
    {
     "name": "stdout",
     "output_type": "stream",
     "text": [
      "a*a*a*a\n"
     ]
    }
   ],
   "source": [
    "if __name__ == '__main__':\n",
    "    string = input()\n",
    "    print(string_to_star(string))"
   ]
  },
  {
   "cell_type": "markdown",
   "metadata": {},
   "source": [
    "-----------------"
   ]
  },
  {
   "cell_type": "code",
   "execution_count": 55,
   "metadata": {},
   "outputs": [],
   "source": [
    "def AB_convertor(string):\n",
    "    if len(string)==0:\n",
    "        return 'trure'\n",
    "    if len(string)==1:\n",
    "        if string[0] == 'a':\n",
    "            return 'true'\n",
    "        else:\n",
    "            return 'false'\n",
    "    if string[0] == 'a':\n",
    "        return AB_convertor_helper(string[1:])\n",
    "    else:\n",
    "        return 'false'\n",
    "    \n",
    "def AB_convertor_helper(string):\n",
    "    if len(string)==0:\n",
    "        return 'true'\n",
    "    if string[0]=='a':\n",
    "        return AB_convertor_helper(string[1:])\n",
    "    if string[:2]=='bb':\n",
    "        return AB_convertor_helper(string[2:])\n",
    "    else:\n",
    "        return 'false'\n",
    "    "
   ]
  },
  {
   "cell_type": "code",
   "execution_count": 62,
   "metadata": {},
   "outputs": [
    {
     "name": "stdin",
     "output_type": "stream",
     "text": [
      " aaabbabbabbaabb\n"
     ]
    },
    {
     "name": "stdout",
     "output_type": "stream",
     "text": [
      "true\n"
     ]
    }
   ],
   "source": [
    "if __name__ == \"__main__\":\n",
    "    string = input()\n",
    "    print(AB_convertor(string))"
   ]
  },
  {
   "cell_type": "markdown",
   "metadata": {},
   "source": [
    "------------"
   ]
  },
  {
   "cell_type": "code",
   "execution_count": 79,
   "metadata": {},
   "outputs": [],
   "source": [
    "def staircase(n):\n",
    "    if n==0 or n==1:\n",
    "        return 1\n",
    "    \n",
    "    if n==2:\n",
    "        return 2\n",
    "    \n",
    "    \n",
    "    return staircase(n-1)+staircase(n-2)+staircase(n-3)\n",
    "   "
   ]
  },
  {
   "cell_type": "code",
   "execution_count": 82,
   "metadata": {},
   "outputs": [
    {
     "name": "stdin",
     "output_type": "stream",
     "text": [
      " 2\n"
     ]
    },
    {
     "name": "stdout",
     "output_type": "stream",
     "text": [
      "2\n"
     ]
    }
   ],
   "source": [
    "if __name__ == \"__main__\":\n",
    "    n = int(input())\n",
    "    print(staircase(n))"
   ]
  },
  {
   "cell_type": "markdown",
   "metadata": {},
   "source": [
    "-------------"
   ]
  },
  {
   "cell_type": "markdown",
   "metadata": {},
   "source": [
    "## OOPS Concept "
   ]
  },
  {
   "cell_type": "code",
   "execution_count": 10,
   "metadata": {},
   "outputs": [],
   "source": [
    "class oops():\n",
    "    def __init__(self,name):\n",
    "        self.name = name\n",
    "    def myname(self):\n",
    "        return  'My name is :{}'.format(self.name)"
   ]
  },
  {
   "cell_type": "code",
   "execution_count": 11,
   "metadata": {},
   "outputs": [
    {
     "name": "stdout",
     "output_type": "stream",
     "text": [
      "My name is :Mayank\n"
     ]
    }
   ],
   "source": [
    "val = oops('Mayank')\n",
    "print(val.myname())"
   ]
  },
  {
   "cell_type": "code",
   "execution_count": 5,
   "metadata": {},
   "outputs": [
    {
     "name": "stdout",
     "output_type": "stream",
     "text": [
      "Parikh 60\n"
     ]
    }
   ],
   "source": [
    "class Student:\n",
    "    name = 'Parikh'\n",
    "    def store_details(self):\n",
    "        self.age = 60\n",
    "    def print_details(self):\n",
    "        print(self.name, end=' ')\n",
    "        print(self.age)\n",
    "s = Student()\n",
    "s.store_details()\n",
    "s.print_details()\n"
   ]
  },
  {
   "cell_type": "code",
   "execution_count": 1,
   "metadata": {},
   "outputs": [],
   "source": [
    "class parent:\n",
    "    def __init__(self,name):\n",
    "        self.__name = name\n",
    "        "
   ]
  },
  {
   "cell_type": "code",
   "execution_count": 9,
   "metadata": {},
   "outputs": [],
   "source": [
    "class child(parent):\n",
    "    def __init__(self,Age,name):\n",
    "        self.Age = Age\n",
    "        super().__init__(name)"
   ]
  },
  {
   "cell_type": "code",
   "execution_count": 10,
   "metadata": {},
   "outputs": [],
   "source": [
    "mainobj = child(10,'Mayank')\n"
   ]
  },
  {
   "cell_type": "code",
   "execution_count": 14,
   "metadata": {},
   "outputs": [
    {
     "data": {
      "text/plain": [
       "{'Age': 10, '_parent__name': 'Mayank'}"
      ]
     },
     "execution_count": 14,
     "metadata": {},
     "output_type": "execute_result"
    }
   ],
   "source": [
    "mainobj.__dict__"
   ]
  },
  {
   "cell_type": "code",
   "execution_count": 16,
   "metadata": {},
   "outputs": [
    {
     "data": {
      "text/plain": [
       "10"
      ]
     },
     "execution_count": 16,
     "metadata": {},
     "output_type": "execute_result"
    }
   ],
   "source": [
    "mainobj.Age"
   ]
  },
  {
   "cell_type": "markdown",
   "metadata": {},
   "source": [
    "----------------"
   ]
  },
  {
   "cell_type": "code",
   "execution_count": 20,
   "metadata": {},
   "outputs": [],
   "source": [
    "def recurssion(s,t):\n",
    "    \n",
    "    if len(t) == 0:\n",
    "        return True\n",
    "    \n",
    "    if len(s)==0:\n",
    "        return False\n",
    "    \n",
    "    if s[0] != t[0]:\n",
    "        return recurssion(s[1:],t)\n",
    "    else:\n",
    "        return recurssion(s[1:],t[1:])\n",
    "        \n"
   ]
  },
  {
   "cell_type": "code",
   "execution_count": 21,
   "metadata": {},
   "outputs": [
    {
     "name": "stdout",
     "output_type": "stream",
     "text": [
      "e\n",
      "False\n"
     ]
    }
   ],
   "source": [
    "if __name__ == '__main__':\n",
    "    s = 'abcde'\n",
    "    t = 'ead'\n",
    "    print(recurssion(s,t))\n",
    "\n",
    "    "
   ]
  },
  {
   "cell_type": "code",
   "execution_count": 10,
   "metadata": {},
   "outputs": [
    {
     "data": {
      "text/plain": [
       "'bchjsgsuohhdhyrikkknddg'"
      ]
     },
     "execution_count": 10,
     "metadata": {},
     "output_type": "execute_result"
    }
   ],
   "source": [
    "s = 'abchjsgsuohhdhyrikkknddg'\n",
    "s[1:]"
   ]
  },
  {
   "cell_type": "markdown",
   "metadata": {},
   "source": [
    "-----------------------"
   ]
  },
  {
   "cell_type": "code",
   "execution_count": 66,
   "metadata": {},
   "outputs": [],
   "source": [
    "def maximize_profit(arr):\n",
    "    arr.sort()\n",
    "\n",
    "    if len(arr)==1:\n",
    "        return arr\n",
    "        \n",
    "    arr[0]*len(arr)\n",
    "         \n",
    "        \n",
    "    \n",
    "    if len(arr) == 1:\n",
    "        if arr > Maximum_new:\n",
    "            return arr\n",
    "        else:\n",
    "            return Maximum_new\n",
    "    else:\n",
    "        maximize_profit(arr[1:])\n",
    "    \n",
    "    "
   ]
  },
  {
   "cell_type": "code",
   "execution_count": 69,
   "metadata": {},
   "outputs": [],
   "source": [
    "# if __name__ == '__main__':\n",
    "#     n = int(input())\n",
    "#     arr = [int(ele) for ele in input().split()]\n",
    "#     ans = maximize_profit(arr)\n",
    "#     print(ans)"
   ]
  },
  {
   "cell_type": "markdown",
   "metadata": {},
   "source": [
    "---------------"
   ]
  },
  {
   "cell_type": "code",
   "execution_count": 72,
   "metadata": {},
   "outputs": [],
   "source": [
    "def maximize_array(arr):\n",
    "    arr.sort()\n",
    "    lst = []\n",
    "    for i in range(len(arr)):\n",
    "        lst.append(arr[i]*len(arr[i:]))\n",
    "    return max(lst)"
   ]
  },
  {
   "cell_type": "code",
   "execution_count": 73,
   "metadata": {},
   "outputs": [
    {
     "name": "stdin",
     "output_type": "stream",
     "text": [
      " 3\n",
      " 12 24 36\n"
     ]
    },
    {
     "name": "stdout",
     "output_type": "stream",
     "text": [
      "48\n"
     ]
    }
   ],
   "source": [
    "if __name__ == '__main__':\n",
    "    n = int(input())\n",
    "    arr = [int(ele) for ele in input().split()]\n",
    "    ans = maximize_array(arr)\n",
    "    print(ans)"
   ]
  },
  {
   "cell_type": "code",
   "execution_count": null,
   "metadata": {},
   "outputs": [],
   "source": [
    "def maximize_profit(arr):\n",
    "    arr.sort()\n",
    "    lst  = []\n",
    "    \n",
    "    "
   ]
  },
  {
   "cell_type": "code",
   "execution_count": 26,
   "metadata": {},
   "outputs": [
    {
     "data": {
      "text/plain": [
       "[3]"
      ]
     },
     "execution_count": 26,
     "metadata": {},
     "output_type": "execute_result"
    }
   ],
   "source": [
    "a = []\n",
    "main_lst = []\n",
    "a.append(3)\n",
    "main_lst.extend(a)\n",
    "main_lst"
   ]
  },
  {
   "cell_type": "code",
   "execution_count": 27,
   "metadata": {},
   "outputs": [],
   "source": [
    "a.append(5)"
   ]
  },
  {
   "cell_type": "code",
   "execution_count": 28,
   "metadata": {},
   "outputs": [],
   "source": [
    "main_lst.extend(a)"
   ]
  },
  {
   "cell_type": "code",
   "execution_count": 29,
   "metadata": {},
   "outputs": [
    {
     "data": {
      "text/plain": [
       "[3, 3, 5]"
      ]
     },
     "execution_count": 29,
     "metadata": {},
     "output_type": "execute_result"
    }
   ],
   "source": [
    "main_lst"
   ]
  },
  {
   "cell_type": "markdown",
   "metadata": {},
   "source": [
    "----"
   ]
  },
  {
   "cell_type": "code",
   "execution_count": 2,
   "metadata": {},
   "outputs": [
    {
     "name": "stdin",
     "output_type": "stream",
     "text": [
      " 4 3\n"
     ]
    },
    {
     "name": "stdout",
     "output_type": "stream",
     "text": [
      "64\n"
     ]
    }
   ],
   "source": [
    "def power(x, n):\n",
    "    # Please add your code here\n",
    "    if n==0:\n",
    "        return 1\n",
    "    if n%2==0:\n",
    "        small_power = power(x,n//2)\n",
    "        return small_power*small_power\n",
    "    else:\n",
    "        small_power = power(x,n//2)\n",
    "        return x*small_power*small_power\n",
    "    \n",
    "\n",
    "# Main\n",
    "from sys import setrecursionlimit\n",
    "setrecursionlimit(11000)\n",
    "x, n=list(int(i) for i in input().strip().split(' '))\n",
    "print(power(x, n))\n"
   ]
  },
  {
   "cell_type": "markdown",
   "metadata": {},
   "source": [
    "---"
   ]
  },
  {
   "cell_type": "code",
   "execution_count": 1,
   "metadata": {},
   "outputs": [],
   "source": [
    "#linklist"
   ]
  },
  {
   "cell_type": "code",
   "execution_count": 12,
   "metadata": {},
   "outputs": [],
   "source": [
    "class node:\n",
    "    def __init__(self,data):\n",
    "        self.data = data \n",
    "        self.next = None\n",
    "\n",
    "\n",
    "        \n",
    "def linklist(lst):\n",
    "    head = None\n",
    "    for val in lst:\n",
    "        if val == -1:\n",
    "            return \"None\"\n",
    "    \n",
    "        if head is None:\n",
    "            head = node(val)\n",
    "        else:\n",
    "            current_node = head\n",
    "            while current_node.next is not None:\n",
    "                current_node = current_node.next\n",
    "            current_node.next = node(val)\n",
    "    return head\n",
    "\n",
    "\n",
    "def printL(head):\n",
    "    while head is not None:\n",
    "        print(str(head.data)+\"->\",end='')\n",
    "        head = head.next\n",
    "    return \n",
    "            "
   ]
  },
  {
   "cell_type": "code",
   "execution_count": 33,
   "metadata": {},
   "outputs": [],
   "source": [
    "class node:\n",
    "    def __init__(self,data):\n",
    "        self.data = data \n",
    "        self.next = None\n",
    "\n",
    "\n",
    "        \n",
    "def linklist(lst):\n",
    "    head = None\n",
    "    tail = None \n",
    "    for val in lst:\n",
    "        if val == -1:\n",
    "            break\n",
    "        nextnode = node(val)\n",
    "        if head is None:\n",
    "            head = nextnode \n",
    "            tail = nextnode\n",
    "        else:\n",
    "            tail.next = nextnode\n",
    "            tail = nextnode\n",
    "    return head\n",
    "\n",
    "\n",
    "def printL(head):\n",
    "    while head is not None:\n",
    "        print(str(head.data)+\"->\",end='')\n",
    "        \n",
    "        head = head.next\n",
    "    print(\"None\")\n",
    "    return \n",
    "            "
   ]
  },
  {
   "cell_type": "code",
   "execution_count": 34,
   "metadata": {},
   "outputs": [
    {
     "name": "stdin",
     "output_type": "stream",
     "text": [
      " 1 2 3 4 -1\n"
     ]
    },
    {
     "name": "stdout",
     "output_type": "stream",
     "text": [
      "1->2->3->4->None\n",
      "None\n"
     ]
    }
   ],
   "source": [
    "lst = input()\n",
    "lst_main = [int(ele) for ele in lst.split()]\n",
    "head = linklist(lst_main)\n",
    "\n",
    "print(printL(head))"
   ]
  },
  {
   "cell_type": "code",
   "execution_count": 35,
   "metadata": {},
   "outputs": [],
   "source": [
    "\n",
    "# from sys import stdin\n",
    "\n",
    "# #Following is the Node class already written for the Linked List\n",
    "# class Node :\n",
    "#     def __init__(self, data) :\n",
    "#         self.data = data\n",
    "#         self.next = None\n",
    "\n",
    "\n",
    "\n",
    "\n",
    "\n",
    "\n",
    "# def length(head) :\n",
    "#     #Your code goes here\n",
    "#     cnt = 0\n",
    "#     while head is not None:\n",
    "#         cnt+=1\n",
    "#         head = head.next\n",
    "#     return cnt\n",
    "\n",
    "\n",
    "\n",
    "\n",
    "\n",
    "\n",
    "\n",
    "\n",
    "\n",
    "\n",
    "\n",
    "        \n",
    "\n",
    "\n",
    "\n",
    "\n",
    "# #Taking Input Using Fast I/O\n",
    "# def takeInput() :\n",
    "#     head = None\n",
    "#     tail = None\n",
    "\n",
    "#     datas = list(map(int, stdin.readline().rstrip().split(\" \")))\n",
    "\n",
    "#     i = 0\n",
    "#     while (i < len(datas)) and (datas[i] != -1) :\n",
    "#         data = datas[i]\n",
    "#         newNode = Node(data)\n",
    "\n",
    "#         if head is None :\n",
    "#             head = newNode\n",
    "#             tail = newNode\n",
    "\n",
    "#         else :\n",
    "#             tail.next = newNode\n",
    "#             tail = newNode\n",
    "\n",
    "#         i += 1\n",
    "\n",
    "#     return head\n",
    "\n",
    "\n",
    "\n",
    "# #to print the linked list \n",
    "# def printLinkedList(head) :\n",
    "\n",
    "#     while head is not None :\n",
    "#         print(head.data, end = \" \")\n",
    "#         head = head.next\n",
    "\n",
    "#     print()\n",
    "\n",
    "\n",
    "\n",
    "# #main\n",
    "# t = int(stdin.readline().rstrip())\n",
    "\n",
    "# while t > 0 :\n",
    "\n",
    "#     head = takeInput()\n",
    "#     print(length(head))\n",
    "\n",
    "#     t -= 1"
   ]
  },
  {
   "cell_type": "code",
   "execution_count": 38,
   "metadata": {},
   "outputs": [],
   "source": [
    "\n",
    "# from sys import stdin\n",
    "\n",
    "# #Following is the Node class already written for the Linked List\n",
    "# class Node :\n",
    "#     def __init__(self, data) :\n",
    "#         self.data = data\n",
    "#         self.next = None\n",
    "\n",
    "\n",
    "\n",
    "\n",
    "# def printIthNode(head, i):\n",
    "#     #Your code goes here\n",
    "#     if i == 0:\n",
    "#         return \n",
    "    \n",
    "#     for j in range(i):\n",
    "#         if head is not None:\n",
    "#             head = head.next\n",
    "#     if head is not None:\n",
    "#         print(head.data)\n",
    "#     return\n",
    "\n",
    "\n",
    "\n",
    "\n",
    "\n",
    "\n",
    "\n",
    "\n",
    "\n",
    "\n",
    "\n",
    "\n",
    "\n",
    "\n",
    "\n",
    "\n",
    "\n",
    "\n",
    "\n",
    "\n",
    "\n",
    "\n",
    "\n",
    "\n",
    "\n",
    "# #Taking Input Using Fast I/O\n",
    "# def takeInput() :\n",
    "#     head = None\n",
    "#     tail = None\n",
    "\n",
    "#     datas = list(map(int, stdin.readline().rstrip().split(\" \")))\n",
    "\n",
    "#     i = 0\n",
    "#     while (i < len(datas)) and (datas[i] != -1) :\n",
    "#         data = datas[i]\n",
    "#         newNode = Node(data)\n",
    "\n",
    "#         if head is None :\n",
    "#             head = newNode\n",
    "#             tail = newNode\n",
    "\n",
    "#         else :\n",
    "#             tail.next = newNode\n",
    "#             tail = newNode\n",
    "\n",
    "#         i += 1\n",
    "\n",
    "#     return head\n",
    "\n",
    "\n",
    "# #to print the linked list \n",
    "# def printLinkedList(head) :\n",
    "\n",
    "#     while head is not None :\n",
    "#         print(head.data, end = \" \")\n",
    "#         head = head.next\n",
    "\n",
    "#     print()\n",
    "\n",
    "\n",
    "# #main\n",
    "# t = int(stdin.readline().rstrip())\n",
    "\n",
    "# while t > 0 :\n",
    "\n",
    "#     head = takeInput()\n",
    "#     i = int(stdin.readline().rstrip())\n",
    "#     printIthNode(head, i)\n",
    "\n",
    "#     t -= 1"
   ]
  },
  {
   "cell_type": "markdown",
   "metadata": {},
   "source": [
    "-------------"
   ]
  },
  {
   "cell_type": "markdown",
   "metadata": {},
   "source": [
    "### Deleting the Node"
   ]
  },
  {
   "cell_type": "code",
   "execution_count": 1,
   "metadata": {},
   "outputs": [],
   "source": [
    "# from sys import stdin\n",
    "\n",
    "# # Following is the Node class already written for the Linked List.\n",
    "# class Node :\n",
    "#     def __init__(self, data) :\n",
    "#         self.data = data\n",
    "#         self.next = None\n",
    "\n",
    "\n",
    "        \n",
    "        \n",
    "        \n",
    "\n",
    "# def length(head):\n",
    "#     cnt = 0\n",
    "#     while head is not None:\n",
    "#         cnt+=1\n",
    "#         head = head.next\n",
    "#     return cnt         \n",
    "        \n",
    "        \n",
    "\n",
    "        \n",
    "        \n",
    "        \n",
    "        \n",
    "        \n",
    "# def deleteNode(head, pos) :\n",
    "#     # Write your code here.\n",
    "#     prev = None\n",
    "#     current = head\n",
    "#     cnt = 0\n",
    "#     if pos<0 or pos>length(head):\n",
    "#         return head\n",
    "#     while cnt<pos:\n",
    "#         prev = current\n",
    "#         current = current.next\n",
    "#         cnt+=1\n",
    "#     if prev is not None:\n",
    "#         if current is None:\n",
    "#             return head\n",
    "#         else:\n",
    "#             prev.next = current.next\n",
    "#             current = current.next\n",
    "        \n",
    "#     else:\n",
    "#         if current is None:\n",
    "#             return None\n",
    "#         else:\n",
    "#             current = current.next\n",
    "#             head = current\n",
    "        \n",
    "#     return head\n",
    "\n",
    "\n",
    "\n",
    "\n",
    "\n",
    "\n",
    "# # Taking Input Using Fast I/O.\n",
    "# def takeInput() :\n",
    "#     head = None\n",
    "#     tail = None\n",
    "\n",
    "#     datas = list(map(int, stdin.readline().rstrip().split(\" \")))\n",
    "\n",
    "#     i = 0\n",
    "#     while (i < len(datas)) and (datas[i] != -1) :\n",
    "#         data = datas[i]\n",
    "#         newNode = Node(data)\n",
    "\n",
    "#         if head is None :\n",
    "#             head = newNode\n",
    "#             tail = newNode\n",
    "\n",
    "#         else :\n",
    "#             tail.next = newNode\n",
    "#             tail = newNode\n",
    "\n",
    "#         i += 1\n",
    "\n",
    "#     return head\n",
    "\n",
    "\n",
    "\n",
    "# # To print the linked list.\n",
    "# def printLinkedList(head) :\n",
    "\n",
    "#     while head is not None :\n",
    "#         print(head.data, end = \" \")\n",
    "#         head = head.next\n",
    "\n",
    "#     print()\n",
    "\n",
    "\n",
    "# # Main.\n",
    "# t = int(stdin.readline().strip())\n",
    "\n",
    "# while t > 0 :\n",
    "    \n",
    "#     head = takeInput()\n",
    "#     pos = int(stdin.readline().rstrip())\n",
    "    \n",
    "#     head = deleteNode(head, pos)\n",
    "#     printLinkedList(head)\n",
    "\n",
    "#     t -= 1\n"
   ]
  },
  {
   "cell_type": "code",
   "execution_count": 7,
   "metadata": {},
   "outputs": [
    {
     "name": "stdin",
     "output_type": "stream",
     "text": [
      " 1 -1\n"
     ]
    },
    {
     "name": "stdout",
     "output_type": "stream",
     "text": [
      "1->None\n",
      "None\n"
     ]
    }
   ],
   "source": [
    "# lst = input()\n",
    "# lst_main = [int(ele) for ele in lst.split()]\n",
    "# head = linklist(lst_main)\n",
    "# # insert(head,2,9)\n",
    "# # print(printL(head))\n",
    "\n",
    "# # print(printL(head))\n",
    "\n",
    "# delete(head,0)\n",
    "\n",
    "# print(printL(head))"
   ]
  },
  {
   "cell_type": "markdown",
   "metadata": {},
   "source": [
    "------------"
   ]
  },
  {
   "cell_type": "markdown",
   "metadata": {},
   "source": [
    "### Length Recursively "
   ]
  },
  {
   "cell_type": "code",
   "execution_count": 9,
   "metadata": {},
   "outputs": [],
   "source": [
    "# from sys import stdin , setrecursionlimit\n",
    "# setrecursionlimit(10**6)\n",
    "# class Node:\n",
    "#     def __init__(self, data):\n",
    "#         self.data = data\n",
    "#         self.next = None\n",
    "\n",
    "# # Taking Input Using Fast I/O\n",
    "# def takeInput() :\n",
    "#     head = None\n",
    "#     tail = None\n",
    "\n",
    "#     datas = list(map(int, stdin.readline().rstrip().split(\" \")))\n",
    "\n",
    "#     i = 0\n",
    "#     while (i < len(datas)) and (datas[i] != -1) :\n",
    "#         data = datas[i]\n",
    "#         newNode = Node(data)\n",
    "\n",
    "#         if head is None :\n",
    "#             head = newNode\n",
    "#             tail = newNode\n",
    "\n",
    "#         else :\n",
    "#             tail.next = newNode\n",
    "#             tail = newNode\n",
    "\n",
    "#         i += 1\n",
    "\n",
    "#     return head\n",
    "\n",
    "\n",
    "# # To print the linked list \n",
    "# def printLinkedList(head) :\n",
    "\n",
    "#     while head is not None :\n",
    "#         print(head.data, end = \" \")\n",
    "#         head = head.next\n",
    "\n",
    "#     print()\n",
    "\n",
    "# def lengthRecursive(head):\n",
    "#     # A linked list, find and return the length of input LL recursively.\n",
    "#     # Write your code here\n",
    "#     while head is None:\n",
    "#         return 0\n",
    "#     return 1+lengthRecursive(head.next)\n",
    "    \n",
    "\n",
    "    \n",
    "\n",
    "\n",
    "\n",
    "\n",
    "\n",
    "\n",
    "\n",
    "\n",
    "\n",
    "\n",
    "\n",
    "\n",
    "# # Main\n",
    "# t = int(stdin.readline().rstrip())\n",
    "\n",
    "# while t > 0 :\n",
    "#     head = takeInput()\n",
    "#     ans=lengthRecursive(head)\n",
    "#     print(ans)\n",
    "#     t -= 1 "
   ]
  },
  {
   "cell_type": "markdown",
   "metadata": {},
   "source": [
    "-------------------------------------------------"
   ]
  },
  {
   "cell_type": "code",
   "execution_count": 1,
   "metadata": {},
   "outputs": [],
   "source": [
    "class node:\n",
    "    def __init__(self,data):\n",
    "        self.data = data \n",
    "        self.next = None\n",
    "\n",
    "def deleteNodeRec(head, pos) :\n",
    "    if pos<0:\n",
    "        return head\n",
    "    if pos == 0:\n",
    "        head=  head.next \n",
    "        return head\n",
    "    if head is None:\n",
    "        return None\n",
    "    smallhead = deleteNodeRec(head.next,pos-1)\n",
    "    head.next = smallhead\n",
    "    return head\n",
    "        \n",
    "def linklist(lst):\n",
    "    head = None\n",
    "    tail = None \n",
    "    for val in lst:\n",
    "        if val == -1:\n",
    "            break\n",
    "        nextnode = node(val)\n",
    "        if head is None:\n",
    "            head = nextnode \n",
    "            tail = nextnode\n",
    "        else:\n",
    "            tail.next = nextnode\n",
    "            tail = nextnode\n",
    "    return head\n",
    "\n",
    "\n",
    "def printL(head):\n",
    "    while head is not None:\n",
    "        print(str(head.data)+\"->\",end='')\n",
    "        \n",
    "        head = head.next\n",
    "    print(\"None\")\n",
    "    return \n",
    "            "
   ]
  },
  {
   "cell_type": "code",
   "execution_count": 3,
   "metadata": {},
   "outputs": [
    {
     "name": "stdin",
     "output_type": "stream",
     "text": [
      " 1 2 3 4 5\n"
     ]
    },
    {
     "name": "stdout",
     "output_type": "stream",
     "text": [
      "1->2->3->4->5->None\n",
      "None\n"
     ]
    }
   ],
   "source": [
    "lst = input()\n",
    "lst_main = [int(ele) for ele in lst.split()]\n",
    "head = linklist(lst_main)\n",
    "# insert(head,2,9)\n",
    "# print(printL(head))\n",
    "\n",
    "# print(printL(head))\n",
    "\n",
    "deleteNodeRec(head,0)\n",
    "\n",
    "print(printL(head))"
   ]
  },
  {
   "cell_type": "markdown",
   "metadata": {},
   "source": [
    "------"
   ]
  },
  {
   "cell_type": "code",
   "execution_count": 4,
   "metadata": {},
   "outputs": [],
   "source": [
    "## delte the node Recursively "
   ]
  },
  {
   "cell_type": "code",
   "execution_count": 5,
   "metadata": {},
   "outputs": [],
   "source": [
    "# from sys import stdin, setrecursionlimit\n",
    "# setrecursionlimit(10 ** 6)\n",
    "\n",
    "# #Following is the Node class already written for the Linked List\n",
    "# class Node :\n",
    "#     def __init__(self, data) :\n",
    "#         self.data = data\n",
    "#         self.next = None\n",
    "\n",
    "        \n",
    "        \n",
    "\n",
    "\n",
    "# def deleteNodeRec(head, pos) :\n",
    "# \t#Your code goes here\n",
    "#     if pos<0:\n",
    "#         return head\n",
    "#     if pos == 0:\n",
    "#         head=head.next \n",
    "#         return head\n",
    "#     if head.next is None:\n",
    "#         return head\n",
    "#     smallhead = deleteNodeRec(head.next,pos-1)\n",
    "#     head.next = smallhead\n",
    "#     return head\n",
    "\n",
    "\n",
    "\n",
    "\n",
    "\n",
    "\n",
    "    \n",
    "\n",
    "\n",
    "\n",
    "\n",
    "\n",
    "\n",
    "\n",
    "\n",
    "\n",
    "\n",
    "\n",
    "\n",
    "\n",
    "\n",
    "\n",
    "\n",
    "\n",
    "\n",
    "\n",
    "\n",
    "\t\n",
    "\n",
    "# def takeInput() :\n",
    "#     head = None\n",
    "#     tail = None\n",
    "\n",
    "#     datas = list(map(int, stdin.readline().rstrip().split(\" \")))\n",
    "\n",
    "#     i = 0\n",
    "#     while (i < len(datas)) and (datas[i] != -1) :\n",
    "#         data = datas[i]\n",
    "#         newNode = Node(data)\n",
    "\n",
    "#         if head is None :\n",
    "#             head = newNode\n",
    "#             tail = newNode\n",
    "\n",
    "#         else :\n",
    "#             tail.next = newNode\n",
    "#             tail = newNode\n",
    "\n",
    "#         i += 1\n",
    "\n",
    "#     return head\n",
    "\n",
    "\n",
    "\n",
    "\n",
    "# def printLinkedList(head) :\n",
    "\n",
    "#     while head is not None :\n",
    "#         print(head.data, end = \" \")\n",
    "#         head = head.next\n",
    "\n",
    "#     print()\n",
    "\n",
    "\n",
    "# #main\n",
    "# t = int(stdin.readline().rstrip())\n",
    "\n",
    "# while t > 0 :\n",
    "    \n",
    "#     head = takeInput()\n",
    "#     pos = int(stdin.readline().rstrip())    \n",
    "\n",
    "#     newHead = deleteNodeRec(head, pos)\n",
    "#     printLinkedList(newHead)\n",
    "\n",
    "#     t -= 1"
   ]
  },
  {
   "cell_type": "markdown",
   "metadata": {},
   "source": [
    "------"
   ]
  },
  {
   "cell_type": "code",
   "execution_count": 6,
   "metadata": {},
   "outputs": [],
   "source": [
    "# ## finding a number in linklist\n",
    "\n",
    "\n",
    "# # Following is the Node class already written for the Linked List\n",
    "# class Node :\n",
    "#     def __init__(self, data) :\n",
    "#         self.data = data\n",
    "#         self.next = None\n",
    "\n",
    "# def findNode(head, n) :\n",
    "#     # Write your code here.\n",
    "#     cnt = 0\n",
    "#     while head is not None:\n",
    "#         if head.data == n:\n",
    "#             return cnt\n",
    "#         head = head.next\n",
    "#         cnt+=1\n",
    "        \n",
    "#     if head is None:\n",
    "#         return -1"
   ]
  },
  {
   "cell_type": "markdown",
   "metadata": {},
   "source": [
    "-----------------"
   ]
  },
  {
   "cell_type": "markdown",
   "metadata": {},
   "source": [
    "### Append lastn to first "
   ]
  },
  {
   "cell_type": "code",
   "execution_count": 55,
   "metadata": {},
   "outputs": [],
   "source": [
    "class node:\n",
    "    def __init__(self,data):\n",
    "        self.data = data \n",
    "        self.next = None\n",
    "\n",
    "\n",
    "        \n",
    "def length(head):\n",
    "    cnt = 0\n",
    "    while head is not None:\n",
    "        cnt+=1\n",
    "        head = head.next\n",
    "    return cnt \n",
    "\n",
    "\n",
    "\n",
    "def deleteNodeRec(head, pos) :\n",
    "\n",
    "    if pos<0:\n",
    "        return head\n",
    "    if pos == 0:\n",
    "        head=head.next \n",
    "        return head\n",
    "    if head.next is None:\n",
    "        return head\n",
    "    smallhead = deleteNodeRec(head.next,pos-1)\n",
    "    head.next = smallhead\n",
    "    return head\n",
    "\n",
    "\n",
    "        \n",
    "def LastNfirst(head,n):\n",
    "    prev = None\n",
    "    curr = head\n",
    "    skip = length(head)-n\n",
    "    while skip>0:\n",
    "        prev = curr\n",
    "        curr = curr.next\n",
    "        skip-=1\n",
    "    prev.next = None\n",
    "    temphead = head\n",
    "    \n",
    "    head = curr \n",
    "    \n",
    "    while curr.next is not None:\n",
    "        curr= curr.next\n",
    "    curr.next = temphead\n",
    "   \n",
    "    \n",
    "    return head\n",
    "        \n",
    "        \n",
    "        \n",
    "        \n",
    "        \n",
    "        \n",
    "def linklist(lst):\n",
    "    head = None\n",
    "    tail = None \n",
    "    for val in lst:\n",
    "        if val == -1:\n",
    "            break\n",
    "        nextnode = node(val)\n",
    "        if head is None:\n",
    "            head = nextnode \n",
    "            tail = nextnode\n",
    "        else:\n",
    "            tail.next = nextnode\n",
    "            tail = nextnode\n",
    "    return head\n",
    "\n",
    "\n",
    "def printL(head):\n",
    "    while head is not None:\n",
    "        print(str(head.data)+\"->\",end='')\n",
    "        \n",
    "        head = head.next\n",
    "    print(\"None\")\n",
    "    return \n",
    "            "
   ]
  },
  {
   "cell_type": "code",
   "execution_count": 56,
   "metadata": {},
   "outputs": [
    {
     "name": "stdin",
     "output_type": "stream",
     "text": [
      " 1 2 3 4 5\n"
     ]
    },
    {
     "name": "stdout",
     "output_type": "stream",
     "text": [
      "4->5->1->2->3->None\n",
      "None\n"
     ]
    }
   ],
   "source": [
    "lst = input()\n",
    "lst_main = [int(ele) for ele in lst.split()]\n",
    "head = linklist(lst_main)\n",
    "# insert(head,2,9)\n",
    "# print(printL(head))\n",
    "\n",
    "# print(printL(head))\n",
    "\n",
    "# deleteNodeRec(head,0)\n",
    "headnew = LastNfirst(head,2)\n",
    "\n",
    "\n",
    "print(printL(headnew))"
   ]
  },
  {
   "cell_type": "code",
   "execution_count": null,
   "metadata": {},
   "outputs": [],
   "source": [
    "\n",
    "# from sys import stdin\n",
    "\n",
    "# #Following is the Node class already written for the Linked List\n",
    "# class Node :\n",
    "#     def __init__(self, data) :\n",
    "#         self.data = data\n",
    "#         self.next = None\n",
    "\n",
    "# def length(head):\n",
    "#     cnt = 0\n",
    "#     while head is not None:\n",
    "#         cnt+=1\n",
    "#         head = head.next\n",
    "#     return cnt \n",
    "\n",
    "\n",
    "# def appendLastNToFirst(head, n) :\n",
    "#     #Your code goes here\n",
    "#     if n<=0 or n>length(head):\n",
    "#         return head\n",
    "#     prev = None\n",
    "#     curr = head\n",
    "#     skip = length(head)-n\n",
    "#     while skip>0:\n",
    "#         prev = curr\n",
    "#         curr = curr.next\n",
    "#         skip-=1\n",
    "#     prev.next = None\n",
    "#     temphead = head\n",
    "    \n",
    "#     head = curr \n",
    "    \n",
    "#     while curr.next is not None:\n",
    "#         curr= curr.next\n",
    "#     curr.next = temphead\n",
    "   \n",
    "    \n",
    "#     return head\n",
    "    \n",
    "\n",
    "\n",
    "\n",
    "\n",
    "\n",
    "\n",
    "\n",
    "\n",
    "\n",
    "\n",
    "\n",
    "\n",
    "\n",
    "\n",
    "\n",
    "\n",
    "\n",
    "\n",
    "\n",
    "\n",
    "\n",
    "\n",
    "\n",
    "\n",
    "\n",
    "\n",
    "# #Taking Input Using Fast I/O\n",
    "# def takeInput() :\n",
    "#     head = None\n",
    "#     tail = None\n",
    "\n",
    "#     datas = list(map(int, stdin.readline().rstrip().split(\" \")))\n",
    "\n",
    "#     i = 0\n",
    "#     while (i < len(datas)) and (datas[i] != -1) :\n",
    "#         data = datas[i]\n",
    "#         newNode = Node(data)\n",
    "\n",
    "#         if head is None :\n",
    "#             head = newNode\n",
    "#             tail = newNode\n",
    "\n",
    "#         else :\n",
    "#             tail.next = newNode\n",
    "#             tail = newNode\n",
    "\n",
    "#         i += 1\n",
    "\n",
    "#     return head\n",
    "\n",
    "\n",
    "# #to print the linked list \n",
    "# def printLinkedList(head) :\n",
    "\n",
    "#     while head is not None :\n",
    "#         print(head.data, end = \" \")\n",
    "#         head = head.next\n",
    "\n",
    "#     print()\n",
    "\n",
    "\n",
    "# #main\n",
    "# t = int(stdin.readline().rstrip())\n",
    "\n",
    "# while t > 0 :\n",
    "\n",
    "#     head = takeInput()\n",
    "#     n = int(stdin.readline().rstrip())\n",
    "\n",
    "#     head = appendLastNToFirst(head, n)\n",
    "#     printLinkedList(head)\n",
    "\n",
    "#     t -= 1 "
   ]
  },
  {
   "cell_type": "markdown",
   "metadata": {},
   "source": [
    "-------------"
   ]
  },
  {
   "cell_type": "code",
   "execution_count": 1,
   "metadata": {},
   "outputs": [],
   "source": [
    "## Remove the dupllicates"
   ]
  },
  {
   "cell_type": "code",
   "execution_count": 2,
   "metadata": {},
   "outputs": [],
   "source": [
    "class node:\n",
    "    def __init__(self,data):\n",
    "        self.data = data \n",
    "        self.next = None\n",
    "\n",
    "\n",
    "        \n",
    "def length(head):\n",
    "    cnt = 0\n",
    "    while head is not None:\n",
    "        cnt+=1\n",
    "        head = head.next\n",
    "    return cnt \n",
    "\n",
    "\n",
    "\n",
    "def deleteNodeRec(head, pos) :\n",
    "\n",
    "    if pos<0:\n",
    "        return head\n",
    "    if pos == 0:\n",
    "        head=head.next \n",
    "        return head\n",
    "    if head.next is None:\n",
    "        return head\n",
    "    smallhead = deleteNodeRec(head.next,pos-1)\n",
    "    head.next = smallhead\n",
    "    return head\n",
    "\n",
    "\n",
    "\n",
    "\n",
    "def removeduplicates(head):\n",
    "    previous = None\n",
    "    current = head\n",
    "    cnt = 0\n",
    "    \n",
    "    while current is not None and current.next is not None :\n",
    "        if head == -1:\n",
    "            break\n",
    "        else:\n",
    "            previous = current\n",
    "            current = current.next\n",
    "            cnt+=1\n",
    "            while current is not None:\n",
    "                if previous.data == current.data:\n",
    "                    previous.next = current.next\n",
    "                    current = current.next\n",
    "                else:\n",
    "                    previous = current\n",
    "                    current = current.next\n",
    "    return head\n",
    "\n",
    "\n",
    "\n",
    "def reverselinklist(head):\n",
    "    previous = None\n",
    "    nxt = None\n",
    "    current = head\n",
    "    while current is not None:\n",
    "        nxt = current.next\n",
    "        current.next = previous\n",
    "        previous = current\n",
    "        current = nxt \n",
    "        \n",
    "    head = previous\n",
    "    while head is not None:\n",
    "        print(head.data,end=' ')\n",
    "        head = head.next\n",
    "    print()\n",
    "#     return \n",
    "    \n",
    "    \n",
    "def isPalindrome(head) :\n",
    "    #Your code goes here\n",
    "    temp_head = head\n",
    "    ispalin = True\n",
    "    lst = []\n",
    "    \n",
    "    # rev_head = reverselinklist(head)\n",
    "    while temp_head is not None:\n",
    "        lst.append(temp_head.data)\n",
    "        temp_head = temp_head.next\n",
    "        \n",
    "    while head is not None:\n",
    "        val = lst.pop()\n",
    "        if head.data == val:\n",
    "            ispalin = True\n",
    "        else:\n",
    "            ispalin = False\n",
    "            break\n",
    "        head = head.next\n",
    "        \n",
    "    return ispalin        \n",
    "    \n",
    "    \n",
    "    \n",
    "    \n",
    "        \n",
    "def LastNfirst(head,n):\n",
    "    prev = None\n",
    "    curr = head\n",
    "    skip = length(head)-n\n",
    "    while skip>0:\n",
    "        prev = curr\n",
    "        curr = curr.next\n",
    "        skip-=1\n",
    "    prev.next = None\n",
    "    temphead = head\n",
    "    \n",
    "    head = curr \n",
    "    \n",
    "    while curr.next is not None:\n",
    "        curr= curr.next\n",
    "    curr.next = temphead\n",
    "   \n",
    "    \n",
    "    return head\n",
    "        \n",
    "        \n",
    "\n",
    "\n",
    "\n",
    "        \n",
    "        \n",
    "        \n",
    "def linklist(lst):\n",
    "    head = None\n",
    "    tail = None \n",
    "    for val in lst:\n",
    "        if val == -1:\n",
    "            break\n",
    "        nextnode = node(val)\n",
    "        if head is None:\n",
    "            head = nextnode \n",
    "            tail = nextnode\n",
    "        else:\n",
    "            tail.next = nextnode\n",
    "            tail = nextnode\n",
    "    return head\n",
    "\n",
    "\n",
    "def printL(head):\n",
    "    while head is not None:\n",
    "        print(str(head.data)+\"->\",end='')\n",
    "        \n",
    "        head = head.next\n",
    "    print(\"None\")\n",
    "    return \n",
    "            "
   ]
  },
  {
   "cell_type": "code",
   "execution_count": 4,
   "metadata": {},
   "outputs": [
    {
     "name": "stdin",
     "output_type": "stream",
     "text": [
      " 1 2 3 4 -1\n"
     ]
    },
    {
     "name": "stdout",
     "output_type": "stream",
     "text": [
      "False\n"
     ]
    }
   ],
   "source": [
    "lst = input()\n",
    "lst_main = [int(ele) for ele in lst.split()]\n",
    "head = linklist(lst_main)\n",
    "# insert(head,2,9)\n",
    "# print(printL(head))\n",
    "\n",
    "# print(printL(head))\n",
    "\n",
    "# deleteNodeRec(head,0)\n",
    "# headnew = LastNfirst(head,2)\n",
    "# headnew = removeduplicates(head)\n",
    "# head_new = reverselinklist(head)\n",
    "\n",
    "# print(isPalindrome(head))\n",
    "# print(printL(head_new))"
   ]
  },
  {
   "cell_type": "markdown",
   "metadata": {},
   "source": [
    "---------------------"
   ]
  },
  {
   "cell_type": "markdown",
   "metadata": {},
   "source": [
    "### Application of Complexity Analysis"
   ]
  },
  {
   "cell_type": "code",
   "execution_count": null,
   "metadata": {},
   "outputs": [],
   "source": [
    "# still in progress time complexity nlogn+mlogn\n",
    "# binary search < merger sort < intersection "
   ]
  },
  {
   "cell_type": "code",
   "execution_count": 108,
   "metadata": {},
   "outputs": [],
   "source": [
    "def binary_search(arr,sea_num,start,last):\n",
    "    if last>= start:\n",
    "        mid = (last+start)//2\n",
    "        if mid<len(arr)-1:\n",
    "            if sea_num == arr[mid]:\n",
    "                return arr[mid]\n",
    "            elif sea_num>arr[mid]:\n",
    "                return binary_search(arr,sea_num,mid+1,last)\n",
    "            else:\n",
    "                return binary_search(arr,sea_num,start,mid-1)\n",
    "        \n",
    "    else:\n",
    "        return -1"
   ]
  },
  {
   "cell_type": "code",
   "execution_count": 118,
   "metadata": {},
   "outputs": [
    {
     "name": "stdout",
     "output_type": "stream",
     "text": [
      "-1\n"
     ]
    }
   ],
   "source": [
    "lst = [1,3,5,6,7]\n",
    "print(binary_search(lst,0,0,len(lst)))"
   ]
  },
  {
   "cell_type": "code",
   "execution_count": 119,
   "metadata": {},
   "outputs": [
    {
     "name": "stdout",
     "output_type": "stream",
     "text": [
      "0\n"
     ]
    }
   ],
   "source": [
    "def findUnique(arr, n) :\n",
    "    #Your code goes here\n",
    "    arr.sort()\n",
    "    for i in range(len(arr)):\n",
    "        if arr.count(arr[i])==1:\n",
    "            return arr[i]\n",
    "\n",
    "\n",
    "\n",
    "\n",
    "print(findUnique([1,2,2,3,0,4,4,5,3],8))\n",
    "        \n"
   ]
  },
  {
   "cell_type": "code",
   "execution_count": 120,
   "metadata": {},
   "outputs": [
    {
     "name": "stdout",
     "output_type": "stream",
     "text": [
      "[1, 2, 3, 4]\n"
     ]
    }
   ],
   "source": [
    "a =[1,2,3,3,3,4]\n",
    "b = list(set(a))\n",
    "print(b)\n"
   ]
  },
  {
   "cell_type": "code",
   "execution_count": 121,
   "metadata": {},
   "outputs": [
    {
     "data": {
      "text/plain": [
       "2"
      ]
     },
     "execution_count": 121,
     "metadata": {},
     "output_type": "execute_result"
    }
   ],
   "source": [
    "5//2"
   ]
  },
  {
   "cell_type": "code",
   "execution_count": 122,
   "metadata": {},
   "outputs": [],
   "source": [
    "def intersection(arr1,arr2,n,m):\n",
    "    arr1 = list(set(arr1))\n",
    "    arr2 = list(set(arr2))\n",
    "    i,j=0,0\n",
    "    if n<m:\n",
    "        mergeSort(arr1)\n",
    "        while i<=len(arr1):\n",
    "            print(binary_search(arr1,arr2[i],0,len(arr1)),end=' ')\n",
    "            i+=1\n",
    "    elif m<=n:\n",
    "        mergeSort(arr2)\n",
    "        while j<=len(arr2):\n",
    "            print(binary_search(arr2,arr1[j],0,len(arr2)),end=' ')\n",
    "            j+=1\n",
    "    return \n",
    "        "
   ]
  },
  {
   "cell_type": "code",
   "execution_count": 124,
   "metadata": {},
   "outputs": [],
   "source": [
    "# print(intersection([1,2,3,4],[1,2],4,2))"
   ]
  },
  {
   "cell_type": "code",
   "execution_count": 3,
   "metadata": {},
   "outputs": [],
   "source": [
    "def merge(a1,a2,a):\n",
    "    i=j=k=0\n",
    "    while i<len(a1) and j<len(a2):\n",
    "        if a1[i]<a2[j]:\n",
    "            a[k] = a1[i]\n",
    "            k=k+1\n",
    "            i+=1\n",
    "        else:\n",
    "            a[k]=a2[j]\n",
    "            k+=1\n",
    "            j+=1\n",
    "    while i<len(a1):\n",
    "        a[k] = a1[i]\n",
    "        k+=1\n",
    "        i+=1\n",
    "    while j<len(a2):\n",
    "        a[k] = a2[j]\n",
    "        k+=1\n",
    "        j+=1\n",
    "\n",
    "\n",
    "\n",
    "\n",
    "\n",
    "\n",
    "\n",
    "def mergeSort(arr):\n",
    "    # Please add your code here\n",
    "    if len(arr)==0 or len(arr)==1:\n",
    "        return \n",
    "    mid = (len(arr))//2\n",
    "    smallarray1 = arr[0:mid]\n",
    "    smallarray2 = arr[mid:]\n",
    "    mergeSort(smallarray1)\n",
    "    mergeSort(smallarray2)\n",
    "    merge(smallarray1,smallarray2,arr)\n"
   ]
  },
  {
   "cell_type": "code",
   "execution_count": 6,
   "metadata": {},
   "outputs": [
    {
     "name": "stdin",
     "output_type": "stream",
     "text": [
      "  0000\n",
      " 1 23 \n"
     ]
    },
    {
     "name": "stdout",
     "output_type": "stream",
     "text": [
      "1 23\n"
     ]
    }
   ],
   "source": [
    "n=int(input())\n",
    "arr=list(int(i) for i in input().strip().split(' '))\n",
    "mergeSort(arr)\n",
    "print(*arr)"
   ]
  },
  {
   "cell_type": "markdown",
   "metadata": {},
   "source": [
    "----"
   ]
  },
  {
   "cell_type": "code",
   "execution_count": 141,
   "metadata": {},
   "outputs": [],
   "source": [
    "def intersection(arr1,arr2,n,m):\n",
    "    mergeSort(arr1)\n",
    "    mergeSort(arr2)\n",
    "    i,j=0,0\n",
    "   \n",
    "    while i<len(arr1) and j<len(arr2):\n",
    "        if arr1[i]== arr2[j]:\n",
    "            print(arr1[i],end=' ')\n",
    "            i+=1\n",
    "            j+=1\n",
    "        elif arr2[j]<arr1[i]:\n",
    "            j+=1\n",
    "        else:\n",
    "            i+=1\n",
    "    while i<len(arr1):\n",
    "        i+=1\n",
    "    while j<len(arr2):\n",
    "        j+=1\n",
    "    return \n",
    "    "
   ]
  },
  {
   "cell_type": "code",
   "execution_count": 142,
   "metadata": {},
   "outputs": [
    {
     "name": "stdout",
     "output_type": "stream",
     "text": [
      "8 9 None\n"
     ]
    }
   ],
   "source": [
    "print(intersection([6,9,8,5],[9,2,4,1,8],4,5))"
   ]
  },
  {
   "cell_type": "code",
   "execution_count": 143,
   "metadata": {},
   "outputs": [],
   "source": [
    "# from sys import stdin\n",
    "\n",
    "\n",
    "\n",
    "\n",
    "# def merge(a1,a2,a):\n",
    "#     i=j=k=0\n",
    "#     while i<len(a1) and j<len(a2):\n",
    "#         if a1[i]<a2[j]:\n",
    "#             a[k] = a1[i]\n",
    "#             k=k+1\n",
    "#             i+=1\n",
    "#         else:\n",
    "#             a[k]=a2[j]\n",
    "#             k+=1\n",
    "#             j+=1\n",
    "#     while i<len(a1):\n",
    "#         a[k] = a1[i]\n",
    "#         k+=1\n",
    "#         i+=1\n",
    "#     while j<len(a2):\n",
    "#         a[k] = a2[j]\n",
    "#         k+=1\n",
    "#         j+=1\n",
    "\n",
    "\n",
    "\n",
    "\n",
    "\n",
    "\n",
    "\n",
    "# def mergeSort(arr):\n",
    "#     # Please add your code here\n",
    "#     if len(arr)==0 or len(arr)==1:\n",
    "#         return \n",
    "#     mid = (len(arr))//2\n",
    "#     smallarray1 = arr[0:mid]\n",
    "#     smallarray2 = arr[mid:]\n",
    "#     mergeSort(smallarray1)\n",
    "#     mergeSort(smallarray2)\n",
    "#     merge(smallarray1,smallarray2,arr)\n",
    "\n",
    "# def intersection(arr1, arr2, n, m) :\n",
    "# \t#Your code goes here\n",
    "#     mergeSort(arr1)\n",
    "#     mergeSort(arr2)\n",
    "#     i,j=0,0\n",
    "#     while i<len(arr1) and j<len(arr2):\n",
    "#         if arr1[i]== arr2[j]:\n",
    "#             print(arr1[i],end=' ')\n",
    "#             i+=1\n",
    "#             j+=1\n",
    "#         elif arr2[j]<arr1[i]:\n",
    "#             j+=1\n",
    "#         else:\n",
    "#             i+=1\n",
    "#     while i<len(arr1):\n",
    "#         i+=1\n",
    "#     while j<len(arr2):\n",
    "#         j+=1\n",
    "#     return \n",
    "    \n",
    "            \n",
    "\n",
    "\n",
    "\n",
    "# # Taking input using fast I/O method\n",
    "# def takeInput() :\n",
    "#     n = int(stdin.readline().strip())\n",
    "    \n",
    "#     if n == 0 :\n",
    "#     \treturn list(), 0\n",
    "\n",
    "#     arr = list(map(int, stdin.readline().strip().split(\" \")))\n",
    "#     return arr, n\n",
    "\n",
    "\n",
    "# #main\n",
    "# t = int(stdin.readline().strip())\n",
    "\n",
    "# while t > 0 :\n",
    "\n",
    "#     arr1, n = takeInput()\n",
    "#     arr2, m = takeInput()\n",
    "#     intersection(arr1, arr2, n, m)\n",
    "#     print()\n",
    "\n",
    "#     t -= 1"
   ]
  },
  {
   "cell_type": "code",
   "execution_count": 10,
   "metadata": {},
   "outputs": [],
   "source": [
    "def arrayEquilibriumIndex(arr, n) :\n",
    "    total_Sum = sum(arr)\n",
    "    index = 0\n",
    "    left_sum = 0\n",
    "    while index<len(arr):\n",
    "        right_sum = total_Sum-left_sum-arr[index]\n",
    "        if left_sum == right_sum:\n",
    "            return index\n",
    "        left_sum+=arr[index]\n",
    "        index = index+1\n",
    "    return -1\n",
    "\n",
    "    "
   ]
  },
  {
   "cell_type": "code",
   "execution_count": 11,
   "metadata": {},
   "outputs": [
    {
     "data": {
      "text/plain": [
       "10"
      ]
     },
     "execution_count": 11,
     "metadata": {},
     "output_type": "execute_result"
    }
   ],
   "source": [
    "sum([1,2,7]) "
   ]
  },
  {
   "cell_type": "code",
   "execution_count": 12,
   "metadata": {},
   "outputs": [
    {
     "data": {
      "text/plain": [
       "4"
      ]
     },
     "execution_count": 12,
     "metadata": {},
     "output_type": "execute_result"
    }
   ],
   "source": [
    "arrayEquilibriumIndex([6,1,6,5,3,2,5,0,5,6,0],11)"
   ]
  },
  {
   "cell_type": "code",
   "execution_count": 153,
   "metadata": {},
   "outputs": [
    {
     "data": {
      "text/plain": [
       "39"
      ]
     },
     "execution_count": 153,
     "metadata": {},
     "output_type": "execute_result"
    }
   ],
   "source": [
    "sum([6,1,6,5,3,2,5,0,5,6,0])"
   ]
  },
  {
   "cell_type": "code",
   "execution_count": null,
   "metadata": {},
   "outputs": [],
   "source": [
    "## left = 0 , right = 33\n",
    "# left = 6, right = 32\n",
    "# left = 7, right = 26\n",
    "## left = 13 , right = 21\n"
   ]
  },
  {
   "cell_type": "markdown",
   "metadata": {},
   "source": [
    "------------------"
   ]
  },
  {
   "cell_type": "code",
   "execution_count": 10,
   "metadata": {},
   "outputs": [],
   "source": [
    "def findUnique(arr, n) :\n",
    "    #Your code goes here\n",
    "    arr.sort()\n",
    "    i = 0\n",
    "    \n",
    "    while i<n-1:\n",
    "        if len(arr)==1:\n",
    "            return arr\n",
    "        if arr[i]!=arr[i+1]:\n",
    "            \n",
    "            return arr[i]\n",
    "        \n",
    "        i+=2\n",
    "    return arr[i]\n",
    "            \n"
   ]
  },
  {
   "cell_type": "code",
   "execution_count": 13,
   "metadata": {},
   "outputs": [
    {
     "name": "stdout",
     "output_type": "stream",
     "text": [
      "[1, 1, 3, 7, 7]\n",
      "3\n"
     ]
    }
   ],
   "source": [
    "print(findUnique([1,7,1,3,7],5))"
   ]
  },
  {
   "cell_type": "markdown",
   "metadata": {},
   "source": [
    "------------"
   ]
  },
  {
   "cell_type": "code",
   "execution_count": 17,
   "metadata": {},
   "outputs": [],
   "source": [
    "def findDuplicate(arr, n) :\n",
    "    #Your code goes here\n",
    "    arr.sort()\n",
    "    \n",
    "    i = 0\n",
    "    while i<n:\n",
    "        if arr[i]==arr[i+1]:\n",
    "            return arr[i]\n",
    "        i+=1\n",
    "    return -1"
   ]
  },
  {
   "cell_type": "code",
   "execution_count": 18,
   "metadata": {},
   "outputs": [
    {
     "name": "stdout",
     "output_type": "stream",
     "text": [
      "[0, 1, 2, 3, 4, 5, 6, 7, 7]\n",
      "7\n"
     ]
    }
   ],
   "source": [
    "print(findDuplicate([0,7,2,5,4,7,1,3,6],9))"
   ]
  },
  {
   "cell_type": "markdown",
   "metadata": {},
   "source": [
    "-------------"
   ]
  },
  {
   "cell_type": "code",
   "execution_count": 39,
   "metadata": {},
   "outputs": [],
   "source": [
    "def merge(a1,a2,a):\n",
    "    i=j=k=0\n",
    "    while i<len(a1) and j<len(a2):\n",
    "        if a1[i]<a2[j]:\n",
    "            a[k] = a1[i]\n",
    "            k=k+1\n",
    "            i+=1\n",
    "        else:\n",
    "            a[k]=a2[j]\n",
    "            k+=1\n",
    "            j+=1\n",
    "    while i<len(a1):\n",
    "        a[k] = a1[i]\n",
    "        k+=1\n",
    "        i+=1\n",
    "    while j<len(a2):\n",
    "        a[k] = a2[j]\n",
    "        k+=1\n",
    "        j+=1\n",
    "\n",
    "\n",
    "\n",
    "\n",
    "\n",
    "\n",
    "\n",
    "def mergeSort(arr):\n",
    "    # Please add your code here\n",
    "    if len(arr)==0 or len(arr)==1:\n",
    "        return \n",
    "    mid = (len(arr))//2\n",
    "    smallarray1 = arr[0:mid]\n",
    "    smallarray2 = arr[mid:]\n",
    "    mergeSort(smallarray1)\n",
    "    mergeSort(smallarray2)\n",
    "    merge(smallarray1,smallarray2,arr)\n",
    "\n",
    "\n",
    "def pairSum(arr, n, num) :\n",
    "    \n",
    "\t#Your code goes here\n",
    "\n",
    "    sum_pair_cnt = 0\n",
    "    i = 0\n",
    "    j = len(arr)-1\n",
    "    \n",
    "    mergeSort(arr)\n",
    "\n",
    "    while i<j:\n",
    "        if arr[i]+arr[j]> num:\n",
    "            j-=1\n",
    "        elif arr[i]+arr[j]<num:\n",
    "            i+=1\n",
    "        else:\n",
    "            # need to work on this block only \n",
    "            if arr[i]==arr[i+1] or arr[j]==arr[j-1]:\n",
    "                \n",
    "                for k in range(j,i,-1):\n",
    "                    \n",
    "                    if arr[i]+arr[k]==num:\n",
    "                        sum_pair_cnt+=1\n",
    "                i+=1\n",
    "               \n",
    "            else:\n",
    "                sum_pair_cnt+=1\n",
    "                i+=1\n",
    "                j-=1\n",
    "                \n",
    "    \n",
    "    return sum_pair_cnt\n",
    "\n"
   ]
  },
  {
   "cell_type": "code",
   "execution_count": 42,
   "metadata": {},
   "outputs": [
    {
     "name": "stdout",
     "output_type": "stream",
     "text": [
      "15\n"
     ]
    }
   ],
   "source": [
    "print(pairSum([2,2,2,2,2,2],6,4))"
   ]
  },
  {
   "cell_type": "code",
   "execution_count": null,
   "metadata": {},
   "outputs": [],
   "source": [
    "## case 1 Normal \n",
    "## [1,2,3,4,,5]  i=0 and j= len(a)-1  if arr[i] and arr[j] is greater than num so we will move j \n",
    "## if it is small move i\n",
    "## if both equal move both\n",
    "\n",
    "##  case 2 duplicate value \n",
    "## [1,2,2,3,4,4,6],num = 6\n",
    "## start i=0 and j=len(a)-1 if arr[i] and arr[j] == num and arr[i]==arr[i+1] only move i"
   ]
  },
  {
   "cell_type": "markdown",
   "metadata": {},
   "source": [
    "-------------"
   ]
  },
  {
   "cell_type": "code",
   "execution_count": 51,
   "metadata": {},
   "outputs": [],
   "source": [
    "def rotate(arr, n, d):\n",
    "    #Your code goes here\n",
    "    # if len(arr)==0 or len(arr)==1:\n",
    "    #     return arr\n",
    "    new_arr = [0]*n\n",
    "    for i in range(n):\n",
    "        new_arr[i] = arr[d-i]\n",
    "    for j in new_arr:\n",
    "        print(j,end=' ')\n",
    "    return -1\n",
    "    \n",
    "    "
   ]
  },
  {
   "cell_type": "code",
   "execution_count": 52,
   "metadata": {},
   "outputs": [
    {
     "name": "stdout",
     "output_type": "stream",
     "text": [
      "2 1 4 3 "
     ]
    },
    {
     "data": {
      "text/plain": [
       "-1"
      ]
     },
     "execution_count": 52,
     "metadata": {},
     "output_type": "execute_result"
    }
   ],
   "source": [
    "rotate([1,2,3,4],4,1)"
   ]
  },
  {
   "cell_type": "code",
   "execution_count": 16,
   "metadata": {},
   "outputs": [],
   "source": [
    "def rotate(arr, n, d):\n",
    "    #Your code goes here\n",
    "    # if len(arr)==0 or len(arr)==1:\n",
    "    #     return arr\n",
    "    new_arr = [0]*n\n",
    "    for i in range(d,n):\n",
    "        new_arr[] = arr[i+d]\n",
    "    for j in new_arr:\n",
    "        print(j,end=' ')\n",
    "    return\n",
    "    "
   ]
  },
  {
   "cell_type": "code",
   "execution_count": 17,
   "metadata": {},
   "outputs": [
    {
     "name": "stdout",
     "output_type": "stream",
     "text": [
      "0 0 0 0 0 "
     ]
    }
   ],
   "source": [
    "rotate([1,2,3,4,5],5,9)"
   ]
  },
  {
   "cell_type": "code",
   "execution_count": 2,
   "metadata": {},
   "outputs": [],
   "source": [
    "def rotate(arr, n, d):\n",
    "    #Your code goes here\n",
    "    # if len(arr)==0 or len(arr)==1:\n",
    "    #     return arr\n",
    "    # new_arr = [0]*n\n",
    "    # for i in range(n):\n",
    "    #     new_arr[i-d] = arr[i]\n",
    "    if len(arr)==0 or len(arr)==1:\n",
    "        return arr\n",
    "    new_arr = arr[d:]+arr[0:d] \n",
    "    for j in new_arr:\n",
    "        print(j,end=' ')\n",
    "    return"
   ]
  },
  {
   "cell_type": "code",
   "execution_count": 10,
   "metadata": {},
   "outputs": [
    {
     "name": "stdout",
     "output_type": "stream",
     "text": [
      "1 2 3 4 5 6 7 7 8 "
     ]
    }
   ],
   "source": [
    "rotate([1,2,3,4,5,6,7,7,8],9,0)"
   ]
  },
  {
   "cell_type": "code",
   "execution_count": 9,
   "metadata": {},
   "outputs": [
    {
     "name": "stdout",
     "output_type": "stream",
     "text": [
      "[1]\n",
      "2 3 4 1 "
     ]
    }
   ],
   "source": [
    "arr = [1,2,3,4] ##[2,3,4,1]\n",
    "n = 4\n",
    "d = 1\n",
    "arr1 = arr[::-1]\n",
    "part = arr1[:n-d]\n",
    "part2 = arr1[n-d:]\n",
    "\n",
    "arr_new = part[::-1] + part2[::-1]\n",
    "\n",
    "for val in arr_new:\n",
    "    print(val,end=' ')"
   ]
  },
  {
   "cell_type": "code",
   "execution_count": 5,
   "metadata": {},
   "outputs": [
    {
     "data": {
      "text/plain": [
       "[1]"
      ]
     },
     "execution_count": 5,
     "metadata": {},
     "output_type": "execute_result"
    }
   ],
   "source": [
    "a =[1,2,3]\n",
    "a[:1]"
   ]
  },
  {
   "cell_type": "code",
   "execution_count": 13,
   "metadata": {},
   "outputs": [],
   "source": [
    "# from sys import stdin\n",
    "\n",
    "\n",
    "# def rotate(arr, n, d):\n",
    "#      if len(arr)==0 or len(arr)==1:\n",
    "#         return arr\n",
    "#      new_arr = arr[d:]+arr[0:d] \n",
    "#     for j in new_arr:\n",
    "#          print(j,end=' ')\n",
    "#     print()\n",
    "    \n",
    "   \n",
    "\n",
    "\n",
    "\n",
    "\n",
    "# # Taking Input Using Fats I/O\n",
    "# def takeInput() :\n",
    "#     n = int(stdin.readline().rstrip())\n",
    "#     if n == 0:\n",
    "#         return list(), 0\n",
    "\n",
    "#     arr = list(map(int, stdin.readline().rstrip().split(\" \")))\n",
    "#     return arr, n\n",
    "\n",
    "\n",
    "# #to print the array/list \n",
    "# def printList(arr, n) : \n",
    "#     for i in range(n) :\n",
    "#         print(arr[i], end = \" \")\n",
    "#     print()\n",
    "\n",
    "\n",
    "# #main\n",
    "# t = int(stdin.readline().rstrip())\n",
    "\n",
    "# while t > 0 :\n",
    "    \n",
    "#     arr, n = takeInput()\n",
    "#     d = int(stdin.readline().rstrip())\n",
    "#     rotate(arr, n, d)\n",
    "#     # printList(arr, n)\n",
    "    \n",
    "#     t -= 1"
   ]
  },
  {
   "cell_type": "code",
   "execution_count": 3,
   "metadata": {},
   "outputs": [],
   "source": [
    "def tripletSum(arr, n, num) :\n",
    "    arr.sort()\n",
    "    sum_cnt = 0\n",
    "    arr_first = arr[0]\n",
    "    \n",
    "    i = 0\n",
    "    while i<len(arr)-2:\n",
    "        j = len(arr)-1\n",
    "        k = i+1\n",
    "        \n",
    "        while k<j:\n",
    "            \n",
    "            if arr[i] + arr[k] + arr[j] == num:\n",
    "                sum_cnt+=1\n",
    "                j-=1\n",
    "#                 k+=1\n",
    "            elif arr[i] + arr[k] + arr[j] > num:\n",
    "                j-=1\n",
    "            elif arr[i] + arr[k] + arr[j]< num:\n",
    "                k+=1\n",
    "        i+=1\n",
    "    return sum_cnt"
   ]
  },
  {
   "cell_type": "code",
   "execution_count": 4,
   "metadata": {},
   "outputs": [
    {
     "data": {
      "text/plain": [
       "5"
      ]
     },
     "execution_count": 4,
     "metadata": {},
     "output_type": "execute_result"
    }
   ],
   "source": [
    "tripletSum([2,-5,8,-6,0,5,10,11,-3],9,10)"
   ]
  },
  {
   "cell_type": "code",
   "execution_count": null,
   "metadata": {},
   "outputs": [],
   "source": [
    "2 -5 8 -6 0 5 10 11 -3"
   ]
  },
  {
   "cell_type": "code",
   "execution_count": 5,
   "metadata": {},
   "outputs": [
    {
     "name": "stdout",
     "output_type": "stream",
     "text": [
      "-61\n"
     ]
    }
   ],
   "source": [
    "\n",
    "def tripletSum(arr,n,sum):\n",
    "    arr.sort()\n",
    "    trip_count=0\n",
    "    for i in range(n):\n",
    "        pair_sum=sum-arr[i]\n",
    "        pair_count=pairSum(arr,i+1,n-1,pair_sum)\n",
    "        trip_count+=pair_count\n",
    "        \n",
    "    return trip_count\n",
    "\n",
    "def pairSum(arr,s,e,pair_sum):\n",
    "    pair_count=0\n",
    "    while s<e:\n",
    "        if(arr[s]+arr[e]<pair_sum):\n",
    "            s=s+1\n",
    "        elif(arr[s]+arr[e]>pair_sum):\n",
    "            e=e-1\n",
    "        else:\n",
    "            if(arr[s]==arr[e]):\n",
    "                total_ele=(e-s)+1\n",
    "                pair_count=pair_count+(total_ele*(total_ele-1)//2)\n",
    "                \n",
    "                return pair_count\n",
    "            \n",
    "            temp_s=s+1\n",
    "            temp_e=e-1\n",
    "            while((temp_s<=temp_e) and (arr[temp_s] == arr[s])):\n",
    "                temp_s+=1\n",
    "                \n",
    "            while((temp_e>=temp_s) and (arr[temp_e] == arr[e])):\n",
    "                temp_e-=1\n",
    "                \n",
    "            total_start=temp_s-s\n",
    "            total_end=e-temp_e\n",
    "            pair_count=pair_count+(total_start*total_end)\n",
    "            s=temp_s\n",
    "            e=temp_e\n",
    "            \n",
    "    return pair_count\n",
    "\n",
    "n = int(input())\n",
    "for i in range(n):\n",
    "    m = int(input())\n",
    "    arr = [int(c) for c in input().split()]\n",
    "    n = len(arr)\n",
    "    sum = int(input())\n",
    "    print(tripletSum(arr,n,sum))\n"
   ]
  },
  {
   "cell_type": "markdown",
   "metadata": {},
   "source": [
    "-----------------------------"
   ]
  },
  {
   "cell_type": "markdown",
   "metadata": {},
   "source": [
    "##  Linklist 2"
   ]
  },
  {
   "cell_type": "code",
   "execution_count": 17,
   "metadata": {},
   "outputs": [],
   "source": [
    "class node:\n",
    "    def __init__(self,data):\n",
    "        self.data = data \n",
    "        self.next = None\n",
    "\n",
    "\n",
    "        \n",
    "def length(head):\n",
    "    cnt = 0\n",
    "    while head is not None:\n",
    "        cnt+=1\n",
    "        head = head.next\n",
    "    return cnt \n",
    "\n",
    "\n",
    "\n",
    "def deleteNodeRec(head, pos) :\n",
    "\n",
    "    if pos<0:\n",
    "        return head\n",
    "    if pos == 0:\n",
    "        head=head.next \n",
    "        return head\n",
    "    if head.next is None:\n",
    "        return head\n",
    "    smallhead = deleteNodeRec(head.next,pos-1)\n",
    "    head.next = smallhead\n",
    "    return head\n",
    "\n",
    "\n",
    "\n",
    "\n",
    "def removeduplicates(head):\n",
    "    previous = None\n",
    "    current = head\n",
    "    cnt = 0\n",
    "    \n",
    "    while current is not None and current.next is not None :\n",
    "        if head == -1:\n",
    "            break\n",
    "        else:\n",
    "            previous = current\n",
    "            current = current.next\n",
    "            cnt+=1\n",
    "            while current is not None:\n",
    "                if previous.data == current.data:\n",
    "                    previous.next = current.next\n",
    "                    current = current.next\n",
    "                else:\n",
    "                    previous = current\n",
    "                    current = current.next\n",
    "    return head\n",
    "\n",
    "\n",
    "\n",
    "def reverselinklistRecr(head):\n",
    "    \"\"\"Reverse the linklist by using recursive method\"\"\"\n",
    "    if head is None:\n",
    "        return None\n",
    "    if head.next is None:\n",
    "        return head\n",
    "    tail = head.next\n",
    "    localhead = reverselinklistRecr(head.next)\n",
    "#     tail = localhead\n",
    "    tail.next = head\n",
    "    head.next = None\n",
    "#     localhead.next = tail\n",
    "    return localhead\n",
    "\n",
    "\n",
    "\n",
    "\n",
    "\n",
    "def reverselinklist(head):\n",
    "    previous = None\n",
    "    nxt = None\n",
    "    current = head\n",
    "    while current is not None:\n",
    "        nxt = current.next\n",
    "        current.next = previous\n",
    "        previous = current\n",
    "        current = nxt \n",
    "        \n",
    "    head = previous\n",
    "    while head is not None:\n",
    "        print(head.data,end=' ')\n",
    "        head = head.next\n",
    "    print()\n",
    "#     return \n",
    "    \n",
    "    \n",
    "def isPalindrome(head) :\n",
    "    #Your code goes here\n",
    "    temp_head = head\n",
    "    ispalin = True\n",
    "    lst = []\n",
    "    \n",
    "    # rev_head = reverselinklist(head)\n",
    "    while temp_head is not None:\n",
    "        lst.append(temp_head.data)\n",
    "        temp_head = temp_head.next\n",
    "        \n",
    "    while head is not None:\n",
    "        val = lst.pop()\n",
    "        if head.data == val:\n",
    "            ispalin = True\n",
    "        else:\n",
    "            ispalin = False\n",
    "            break\n",
    "        head = head.next\n",
    "        \n",
    "    return ispalin        \n",
    "    \n",
    "    \n",
    "    \n",
    "    \n",
    "        \n",
    "def LastNfirst(head,n):\n",
    "    prev = None\n",
    "    curr = head\n",
    "    skip = length(head)-n\n",
    "    while skip>0:\n",
    "        prev = curr\n",
    "        curr = curr.next\n",
    "        skip-=1\n",
    "    prev.next = None\n",
    "    temphead = head\n",
    "    \n",
    "    head = curr \n",
    "    \n",
    "    while curr.next is not None:\n",
    "        curr= curr.next\n",
    "    curr.next = temphead\n",
    "   \n",
    "    \n",
    "    return head\n",
    "        \n",
    "        \n",
    "\n",
    "\n",
    "\n",
    "        \n",
    "        \n",
    "        \n",
    "def linklist(lst):\n",
    "    head = None\n",
    "    tail = None \n",
    "    for val in lst:\n",
    "        if val == -1:\n",
    "            break\n",
    "        nextnode = node(val)\n",
    "        if head is None:\n",
    "            head = nextnode \n",
    "            tail = nextnode\n",
    "        else:\n",
    "            tail.next = nextnode\n",
    "            tail = nextnode\n",
    "    return head\n",
    "\n",
    "\n",
    "def printL(head):\n",
    "    while head is not None:\n",
    "        print(str(head.data)+\"->\",end='')\n",
    "        \n",
    "        head = head.next\n",
    "    print(\"None\")\n",
    "    return \n",
    "            "
   ]
  },
  {
   "cell_type": "code",
   "execution_count": 18,
   "metadata": {},
   "outputs": [
    {
     "name": "stdin",
     "output_type": "stream",
     "text": [
      " 1 2 3 4 5 -1\n"
     ]
    },
    {
     "name": "stdout",
     "output_type": "stream",
     "text": [
      "5->4->3->2->1->None\n",
      "None\n"
     ]
    }
   ],
   "source": [
    "lst = input()\n",
    "lst_main = [int(ele) for ele in lst.split()]\n",
    "head = linklist(lst_main)\n",
    "# insert(head,2,9)\n",
    "# print(printL(head))\n",
    "\n",
    "# print(printL(head))\n",
    "\n",
    "# deleteNodeRec(head,0)\n",
    "# headnew = LastNfirst(head,2)\n",
    "# headnew = removeduplicates(head)\n",
    "# head_new = reverselinklist(head)\n",
    "\n",
    "head_new = reverselinklistRecr(head)\n",
    "# print(isPalindrome(head))\n",
    "print(printL(head_new))\n"
   ]
  },
  {
   "cell_type": "code",
   "execution_count": null,
   "metadata": {},
   "outputs": [],
   "source": []
  },
  {
   "cell_type": "code",
   "execution_count": null,
   "metadata": {},
   "outputs": [],
   "source": []
  },
  {
   "cell_type": "code",
   "execution_count": null,
   "metadata": {},
   "outputs": [],
   "source": []
  },
  {
   "cell_type": "code",
   "execution_count": null,
   "metadata": {},
   "outputs": [],
   "source": []
  }
 ],
 "metadata": {
  "kernelspec": {
   "display_name": "Python 3",
   "language": "python",
   "name": "python3"
  },
  "language_info": {
   "codemirror_mode": {
    "name": "ipython",
    "version": 3
   },
   "file_extension": ".py",
   "mimetype": "text/x-python",
   "name": "python",
   "nbconvert_exporter": "python",
   "pygments_lexer": "ipython3",
   "version": "3.8.5"
  }
 },
 "nbformat": 4,
 "nbformat_minor": 4
}
